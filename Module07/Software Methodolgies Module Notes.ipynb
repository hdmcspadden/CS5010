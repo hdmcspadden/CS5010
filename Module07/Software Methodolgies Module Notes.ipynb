{
 "cells": [
  {
   "cell_type": "markdown",
   "metadata": {},
   "source": [
    "# Software Development Methods and Models\n",
    "\n",
    "## ESSENTIAL QUESTIONS\n",
    "1. What are the differences between the waterfall model and spiral model?\n",
    "1. What are the limitations of the waterfall model?\n",
    "1. Why is an iterative approach to software development process ideal?\n",
    "1. How do heavyweight and lightweight methodologies differ?\n",
    "1. What techniques have Extreme Programming (XP) made popular?"
   ]
  },
  {
   "cell_type": "markdown",
   "metadata": {},
   "source": [
    "## Readings\n",
    "\n",
    "1. https://en.wikipedia.org/wiki/Agile_software_development\n",
    "2. https://www.mountaingoatsoftware.com/agile/scrum/resources/overview"
   ]
  },
  {
   "cell_type": "markdown",
   "metadata": {},
   "source": [
    "## Module 7.2 Life Cycle Process Models\n",
    "\n",
    "**process** == model of events or tasks a development organization soes and their sequence.\n",
    "\n",
    "**software methodology** == is the implementation of the process - details of techniques, documents to create, reviews, meetings, etc.\n",
    "\n",
    "Why?? a process??\n",
    "\n",
    "1. Find a repeat good practices\n",
    "1. So management know what to do next. Planning and preparation.\n",
    "1. So new team members know the plan and can be oriented."
   ]
  },
  {
   "cell_type": "markdown",
   "metadata": {},
   "source": [
    "## 7.3 Waterfall and Spiral Models\n",
    "\n",
    "### Examine software development method/models\n",
    "\n",
    "1. Government Standard Methodologies\n",
    "    1. DOD standards: https://en.wikipedia.org/wiki/DOD-STD-2167A\n",
    "    1. FAA standards: https://www.hcltech.com/technology-qa/what-is-do-178b\n",
    "2. Well-kn0own Methodologies\n",
    "    1. Unified Process (was the Rational U.P.): https://en.wikipedia.org/wiki/Unified_Process\n",
    "    1. Agile methogologies: Scrum, Extreme Programming, Crystal Clear\n",
    "\n",
    "#### Why Software Methogologies and Data Science\n",
    "1. Define what we do at various stages of software development\n",
    "1. Define how to add quality into software (and software development)\n",
    "1. How to avoid early problems that can cause huge problems later\n",
    "1. Software engineering is not just about code\n",
    "\n",
    "#### Waterfall Method\n",
    "An early and simple methodology for writing software\n",
    "\n",
    "At the beginning of each phase a spec document is produced that defines what will be developed in the phase: e.g. Testing spec.\n",
    "\n",
    "At the end of each phase a document or work product is produced: requirements doc, design doc, code, etc. Little or no iteration is done.\n",
    "\n",
    "These are the **phases**\n",
    "1. Requirements Analysis - each phase.\n",
    "1. Design\n",
    "1. Code (aka Implement) - \n",
    "1. Test\n",
    "1. Maintenance\n",
    "\n",
    "This is not effecitive in real-world practice.\n",
    "**Waterfall Flaws**\n",
    "1. Iteration and feedback are needed (client feedback). Things change: conditions, requirements.\n",
    "1. Waterfall is VERY rigid. Not realistic to freeze results after each phase.\n",
    "1. Model does not emphasize risk management, prototyping, and quality.\n",
    "1. Testing is considered its own phase, BUT it should be done at every phase.\n",
    "\n",
    "\n",
    "#### Spiral Model\n",
    "Need to build in stages. Show progress to customer along the way. Identify problems early before we are over committed. It is easier to test and ensure quality and changes in requirements or design can be identified early, when the cost of change is less.\n",
    "\n",
    "Included in spiral model:\n",
    "1. Risk analysis\n",
    "1. Prototyping\n",
    "1. Iterative development\n",
    "1. Plan -> Objectives -> Risks -> Develop -> Test -> repeat\n",
    "1. There are plans for each phase\n",
    "\n",
    "**Circular/Spiral Phases**\n",
    "1. Determine Objectives\n",
    "1. Identify and resolve risks\n",
    "1. Develop and Test\n",
    "1. Plan next iteration\n",
    "repeat, repeat, repeat"
   ]
  },
  {
   "cell_type": "markdown",
   "metadata": {},
   "source": [
    "## 7.4 Methodologies: Exactly How Do We ...\n",
    "\n",
    "**Plan-driven processes** (i.e. waterfall) are processes where all process activities are planned in advance and progress is measured against the plan.\n",
    "\n",
    "**agile processes**, planning is incremental and it is easier to change the plan and the software to reflect changing customer requirements. \n",
    "\n",
    "In reality: projects include both."
   ]
  },
  {
   "cell_type": "markdown",
   "metadata": {},
   "source": [
    "## 7.5 Agile Approaches\n",
    "\n",
    "Extreme Programming\n",
    "\n",
    "**Agile**: https://en.wikipedia.org/wiki/Agile_software_development\n",
    " \n",
    "* Individuals and interactions over processes and tools\n",
    "* Working software over comprehensive documentation\n",
    "* Customer collaboration over contract negotiation\n",
    "* Responding to change over following a plan\n",
    "\n",
    "the main point of development is to create software, not documentation.\n",
    "\n",
    "The **Manifesto for Agile Software Development** is based on twelve principles:[23]\n",
    "\n",
    "1. Customer satisfaction by early and continuous delivery of valuable software.\n",
    "2. Welcome changing requirements, even in late development.\n",
    "3. Deliver working software frequently (weeks rather than months)\n",
    "4. Close, daily cooperation between business people and developers\n",
    "5. Projects are built around motivated individuals, who should be trusted\n",
    "6. Face-to-face conversation is the best form of communication (co-location)\n",
    "7. Working software is the primary measure of progress\n",
    "8. Sustainable development, able to maintain a constant pace\n",
    "9. Continuous attention to technical excellence and good design\n",
    "10. Simplicity—the art of maximizing the amount of work not done—is essential\n",
    "11. Best architectures, requirements, and designs emerge from self-organizing teams\n",
    "12. Regularly, the team reflects on how to become more effective, and adjusts accordingly\n",
    "\n",
    "**XP Emphasizes**\n",
    "1. Pair-programming: one person coding, and a buddy helping. 2 minds, 1 focus.\n",
    "1. Unit Testing before or during code development:\n",
    "1. Test first (TDD)"
   ]
  },
  {
   "cell_type": "markdown",
   "metadata": {},
   "source": [
    "## 7.6 Scrum\n",
    "\n",
    "**Terms**\n",
    "1. Scrum Team: 5 - 9 ppl. Everyone on the project works to complete a set or work they have jointly committed to.\n",
    "    1. Product Owner: project's key stakeholder - key stakeholder or key users\n",
    "    1. Scrum Master: responsible to make sure the team is as productive as possible. Focuses on the process.\n",
    "    1. Team Members: different disciplines, work together (5 - 9)\n",
    "1. Product backlog: prioritized feature list - every desired feature or change to the product. \n",
    "1. Sprint backlog are the features for the sprint - includes \"definition of done\"\n",
    "1. Scrum board: all team members tasks (KANBAN board)\n",
    "1. Meetings\n",
    "    1. Sprint planning meeting: start of each sprint - product owner presents top items to team. Scrum team selects work they can complete during the sprint.\n",
    "    1. Daily Scrum \"Standup\": briefly daily meeting to set context for the day.\n",
    "    1. Sprint review meeting: at end of sprint team demonstrates the completed functionality. Demo new features. Working software!!\n",
    "    1. Sprint retrospective - at end of sprint reflect on how things went and what should change."
   ]
  },
  {
   "cell_type": "markdown",
   "metadata": {},
   "source": [
    "## Scrum v. Waterfall\n",
    "\n",
    "https://innolution.com/blog/plan-driven-vs-agile-principles"
   ]
  },
  {
   "cell_type": "code",
   "execution_count": null,
   "metadata": {},
   "outputs": [],
   "source": []
  }
 ],
 "metadata": {
  "kernelspec": {
   "display_name": "Python 3",
   "language": "python",
   "name": "python3"
  },
  "language_info": {
   "codemirror_mode": {
    "name": "ipython",
    "version": 3
   },
   "file_extension": ".py",
   "mimetype": "text/x-python",
   "name": "python",
   "nbconvert_exporter": "python",
   "pygments_lexer": "ipython3",
   "version": "3.8.3"
  }
 },
 "nbformat": 4,
 "nbformat_minor": 4
}
