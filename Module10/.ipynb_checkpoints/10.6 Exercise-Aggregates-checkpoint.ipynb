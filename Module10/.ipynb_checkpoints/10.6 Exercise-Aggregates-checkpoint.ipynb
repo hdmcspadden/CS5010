{
 "cells": [
  {
   "cell_type": "markdown",
   "metadata": {},
   "source": [
    "# 10.6 Exercise: Aggregates\n",
    "\n",
    "1. Write a summary about each aggregate function mentioned (np.mean, np.std, np.var, np.argmin, np.argmax, np.median, np.percentile).\n",
    "2. Come up with a small sample of code (with appropriate setup/data) that illustrates the usage of at least four (4) of the aggregate functions (from Part 1). Include the results/output as well.\n",
    "3. Find a sample data set (or create a reasonable data set and place in an appropriate structure, e.g., DataFrame or other). Using GroupBy and splitting using more than one key, perform some queries against that data. Explain what question you’re trying to answer and show the results/output. Come up with a total of three (3) different queries."
   ]
  },
  {
   "cell_type": "markdown",
   "metadata": {},
   "source": [
    "## Part One\n",
    "\n",
    "**np.mean**: np.mean provides the mean of the value in question for the flattened array or for each category of a specified grouping - if the value is numeric.\n",
    "    \n",
    "**np.std**: np.std provides the standard deviation of the value in question for the flattened array or for each category of a specified grouping - if the value is numeric.\n",
    "\n",
    "**np.var**: np.std provides the variance of the value in question for the flattened array or for each category of a specified grouping - if the value is numeric.\n",
    "\n",
    "**np.argmin**: np.argmin returns the indices of the minimum values in the array, or in the rows or columns.\n",
    "\n",
    "**np.argmax**: np.argmin returns the indices of the maximum values in the array, or in the rows or columns.\n",
    "\n",
    "**np.median**: np.median returns the median for an np array or vector.\n",
    "\n",
    "**np.percentile**: np.percentile returns the value of the specified percentile (e.g. 0, 25, 50 , 75, 100) for an array or vector.\n"
   ]
  },
  {
   "cell_type": "markdown",
   "metadata": {},
   "source": [
    "## Part Two"
   ]
  },
  {
   "cell_type": "code",
   "execution_count": 23,
   "metadata": {},
   "outputs": [
    {
     "data": {
      "text/plain": [
       "array([[ 10,   7,   4],\n",
       "       [  3,   2,   1],\n",
       "       [ 15,  25,  35],\n",
       "       [100, 101, 102]])"
      ]
     },
     "execution_count": 23,
     "metadata": {},
     "output_type": "execute_result"
    }
   ],
   "source": [
    "import numpy as np\n",
    "\n",
    "import matplotlib as plt\n",
    "plt.rc('figure', figsize=(10, 6))\n",
    "np.set_printoptions(precision=4, suppress=True)\n",
    "\n",
    "arrayExample = np.array([[10, 7, 4], [3, 2, 1], [15,25,35],[100,101,102]])\n",
    "arrayExample\n"
   ]
  },
  {
   "cell_type": "code",
   "execution_count": 5,
   "metadata": {},
   "outputs": [
    {
     "data": {
      "text/plain": [
       "33.75"
      ]
     },
     "execution_count": 5,
     "metadata": {},
     "output_type": "execute_result"
    }
   ],
   "source": [
    "# return the mean for the entire array\n",
    "np.mean(arrayExample)"
   ]
  },
  {
   "cell_type": "code",
   "execution_count": 7,
   "metadata": {},
   "outputs": [
    {
     "data": {
      "text/plain": [
       "array([32.  , 33.75, 35.5 ])"
      ]
     },
     "execution_count": 7,
     "metadata": {},
     "output_type": "execute_result"
    }
   ],
   "source": [
    "#return the mean of the columns\n",
    "np.mean(arrayExample, axis = 0)"
   ]
  },
  {
   "cell_type": "code",
   "execution_count": 8,
   "metadata": {},
   "outputs": [
    {
     "data": {
      "text/plain": [
       "array([  7.,   2.,  25., 101.])"
      ]
     },
     "execution_count": 8,
     "metadata": {},
     "output_type": "execute_result"
    }
   ],
   "source": [
    "#return the mean of the rows\n",
    "np.mean(arrayExample, axis = 1)"
   ]
  },
  {
   "cell_type": "code",
   "execution_count": 9,
   "metadata": {},
   "outputs": [
    {
     "data": {
      "text/plain": [
       "11"
      ]
     },
     "execution_count": 9,
     "metadata": {},
     "output_type": "execute_result"
    }
   ],
   "source": [
    "# return the indice of the maxium value in the array\n",
    "np.argmax(arrayExample)"
   ]
  },
  {
   "cell_type": "code",
   "execution_count": 10,
   "metadata": {},
   "outputs": [
    {
     "data": {
      "text/plain": [
       "array([3, 3, 3], dtype=int64)"
      ]
     },
     "execution_count": 10,
     "metadata": {},
     "output_type": "execute_result"
    }
   ],
   "source": [
    "# return the indice of the maxium value in the array's columns\n",
    "np.argmax(arrayExample, axis=0)"
   ]
  },
  {
   "cell_type": "code",
   "execution_count": 14,
   "metadata": {},
   "outputs": [
    {
     "data": {
      "text/plain": [
       "5"
      ]
     },
     "execution_count": 14,
     "metadata": {},
     "output_type": "execute_result"
    }
   ],
   "source": [
    "# return the indice of the minimum value in the array\n",
    "np.argmin(arrayExample)"
   ]
  },
  {
   "cell_type": "code",
   "execution_count": 12,
   "metadata": {},
   "outputs": [
    {
     "data": {
      "text/plain": [
       "3.75"
      ]
     },
     "execution_count": 12,
     "metadata": {},
     "output_type": "execute_result"
    }
   ],
   "source": [
    "# return the value of the 25th percentile for the array\n",
    "np.percentile(arrayExample, 25)"
   ]
  },
  {
   "cell_type": "code",
   "execution_count": 13,
   "metadata": {},
   "outputs": [
    {
     "data": {
      "text/plain": [
       "101.44999999999999"
      ]
     },
     "execution_count": 13,
     "metadata": {},
     "output_type": "execute_result"
    }
   ],
   "source": [
    "# return the value of the 95th percentile for the array\n",
    "np.percentile(arrayExample, 95)"
   ]
  },
  {
   "cell_type": "markdown",
   "metadata": {},
   "source": [
    "## Part Three\n",
    "\n",
    "Find a sample data set (or create a reasonable data set and place in an appropriate structure, e.g., DataFrame or other). Using GroupBy and splitting using more than one key, perform some queries against that data. Explain what question you’re trying to answer and show the results/output. Come up with a total of three (3) different queries."
   ]
  },
  {
   "cell_type": "code",
   "execution_count": 22,
   "metadata": {},
   "outputs": [
    {
     "data": {
      "text/html": [
       "<div>\n",
       "<style scoped>\n",
       "    .dataframe tbody tr th:only-of-type {\n",
       "        vertical-align: middle;\n",
       "    }\n",
       "\n",
       "    .dataframe tbody tr th {\n",
       "        vertical-align: top;\n",
       "    }\n",
       "\n",
       "    .dataframe thead th {\n",
       "        text-align: right;\n",
       "    }\n",
       "</style>\n",
       "<table border=\"1\" class=\"dataframe\">\n",
       "  <thead>\n",
       "    <tr style=\"text-align: right;\">\n",
       "      <th></th>\n",
       "      <th>RegionID</th>\n",
       "      <th>RegionName</th>\n",
       "      <th>SizeRank</th>\n",
       "      <th>YYYY-MM-DD</th>\n",
       "      <th>value</th>\n",
       "      <th>yr</th>\n",
       "      <th>period</th>\n",
       "      <th>City</th>\n",
       "      <th>State</th>\n",
       "    </tr>\n",
       "  </thead>\n",
       "  <tbody>\n",
       "    <tr>\n",
       "      <th>0</th>\n",
       "      <td>102001</td>\n",
       "      <td>United States</td>\n",
       "      <td>0</td>\n",
       "      <td>2014-01</td>\n",
       "      <td>1349.0</td>\n",
       "      <td>2014</td>\n",
       "      <td>1</td>\n",
       "      <td>United States</td>\n",
       "      <td>None</td>\n",
       "    </tr>\n",
       "    <tr>\n",
       "      <th>1</th>\n",
       "      <td>394913</td>\n",
       "      <td>New York, NY</td>\n",
       "      <td>1</td>\n",
       "      <td>2014-01</td>\n",
       "      <td>2318.0</td>\n",
       "      <td>2014</td>\n",
       "      <td>1</td>\n",
       "      <td>New York</td>\n",
       "      <td>NY</td>\n",
       "    </tr>\n",
       "    <tr>\n",
       "      <th>2</th>\n",
       "      <td>753899</td>\n",
       "      <td>Los Angeles-Long Beach-Anaheim, CA</td>\n",
       "      <td>2</td>\n",
       "      <td>2014-01</td>\n",
       "      <td>1856.0</td>\n",
       "      <td>2014</td>\n",
       "      <td>1</td>\n",
       "      <td>Los Angeles-Long Beach-Anaheim</td>\n",
       "      <td>CA</td>\n",
       "    </tr>\n",
       "    <tr>\n",
       "      <th>3</th>\n",
       "      <td>394463</td>\n",
       "      <td>Chicago, IL</td>\n",
       "      <td>3</td>\n",
       "      <td>2014-01</td>\n",
       "      <td>1533.0</td>\n",
       "      <td>2014</td>\n",
       "      <td>1</td>\n",
       "      <td>Chicago</td>\n",
       "      <td>IL</td>\n",
       "    </tr>\n",
       "    <tr>\n",
       "      <th>4</th>\n",
       "      <td>394514</td>\n",
       "      <td>Dallas-Fort Worth, TX</td>\n",
       "      <td>4</td>\n",
       "      <td>2014-01</td>\n",
       "      <td>1221.0</td>\n",
       "      <td>2014</td>\n",
       "      <td>1</td>\n",
       "      <td>Dallas-Fort Worth</td>\n",
       "      <td>TX</td>\n",
       "    </tr>\n",
       "  </tbody>\n",
       "</table>\n",
       "</div>"
      ],
      "text/plain": [
       "   RegionID                          RegionName  SizeRank YYYY-MM-DD   value  \\\n",
       "0    102001                       United States         0    2014-01  1349.0   \n",
       "1    394913                        New York, NY         1    2014-01  2318.0   \n",
       "2    753899  Los Angeles-Long Beach-Anaheim, CA         2    2014-01  1856.0   \n",
       "3    394463                         Chicago, IL         3    2014-01  1533.0   \n",
       "4    394514               Dallas-Fort Worth, TX         4    2014-01  1221.0   \n",
       "\n",
       "     yr  period                            City State  \n",
       "0  2014       1                   United States  None  \n",
       "1  2014       1                        New York    NY  \n",
       "2  2014       1  Los Angeles-Long Beach-Anaheim    CA  \n",
       "3  2014       1                         Chicago    IL  \n",
       "4  2014       1               Dallas-Fort Worth    TX  "
      ]
     },
     "execution_count": 22,
     "metadata": {},
     "output_type": "execute_result"
    }
   ],
   "source": [
    "import numpy as np\n",
    "import pandas as pd\n",
    "PREVIOUS_MAX_ROWS = pd.options.display.max_rows\n",
    "pd.options.display.max_rows = 20\n",
    "\n",
    "dfZRental = pd.read_csv('Zillow_Rental_2014-2020.csv')\n",
    "# melt te df so i can work on it\n",
    "dfZRentalPivot = dfZRental.melt(id_vars=['RegionID','RegionName', 'SizeRank'], var_name='YYYY-MM-DD')\n",
    "\n",
    "dfZRentalPivot['yr'] = pd.DatetimeIndex(dfZRentalPivot['YYYY-MM-DD']).year\n",
    "dfZRentalPivot['period'] = pd.DatetimeIndex(dfZRentalPivot['YYYY-MM-DD']).month\n",
    "\n",
    "# split region into city and state columns so i can group by state\n",
    "dfZRentalPivot[['City','State']] = dfZRentalPivot.RegionName.str.split(\", \",expand=True)\n",
    "\n",
    "dfZRentalPivot.head(5)"
   ]
  },
  {
   "cell_type": "markdown",
   "metadata": {},
   "source": [
    "#### First Question: average rent (value column) 2014 - 2020 for each city"
   ]
  },
  {
   "cell_type": "code",
   "execution_count": 24,
   "metadata": {},
   "outputs": [
    {
     "data": {
      "text/html": [
       "<div>\n",
       "<style scoped>\n",
       "    .dataframe tbody tr th:only-of-type {\n",
       "        vertical-align: middle;\n",
       "    }\n",
       "\n",
       "    .dataframe tbody tr th {\n",
       "        vertical-align: top;\n",
       "    }\n",
       "\n",
       "    .dataframe thead th {\n",
       "        text-align: right;\n",
       "    }\n",
       "</style>\n",
       "<table border=\"1\" class=\"dataframe\">\n",
       "  <thead>\n",
       "    <tr style=\"text-align: right;\">\n",
       "      <th></th>\n",
       "      <th></th>\n",
       "      <th>RegionID</th>\n",
       "      <th>SizeRank</th>\n",
       "      <th>value</th>\n",
       "      <th>yr</th>\n",
       "      <th>period</th>\n",
       "    </tr>\n",
       "    <tr>\n",
       "      <th>State</th>\n",
       "      <th>City</th>\n",
       "      <th></th>\n",
       "      <th></th>\n",
       "      <th></th>\n",
       "      <th></th>\n",
       "      <th></th>\n",
       "    </tr>\n",
       "  </thead>\n",
       "  <tbody>\n",
       "    <tr>\n",
       "      <th>AL</th>\n",
       "      <th>Birmingham</th>\n",
       "      <td>394388.0</td>\n",
       "      <td>49.0</td>\n",
       "      <td>1039.72500</td>\n",
       "      <td>2016.85</td>\n",
       "      <td>6.3</td>\n",
       "    </tr>\n",
       "    <tr>\n",
       "      <th>AR</th>\n",
       "      <th>Little Rock</th>\n",
       "      <td>394798.0</td>\n",
       "      <td>76.0</td>\n",
       "      <td>861.97500</td>\n",
       "      <td>2016.85</td>\n",
       "      <td>6.3</td>\n",
       "    </tr>\n",
       "    <tr>\n",
       "      <th rowspan=\"2\" valign=\"top\">AZ</th>\n",
       "      <th>Phoenix</th>\n",
       "      <td>394976.0</td>\n",
       "      <td>14.0</td>\n",
       "      <td>1225.00000</td>\n",
       "      <td>2016.85</td>\n",
       "      <td>6.3</td>\n",
       "    </tr>\n",
       "    <tr>\n",
       "      <th>Tucson</th>\n",
       "      <td>395167.0</td>\n",
       "      <td>53.0</td>\n",
       "      <td>1077.03750</td>\n",
       "      <td>2016.85</td>\n",
       "      <td>6.3</td>\n",
       "    </tr>\n",
       "    <tr>\n",
       "      <th>CA</th>\n",
       "      <th>Bakersfield</th>\n",
       "      <td>394357.0</td>\n",
       "      <td>63.0</td>\n",
       "      <td>1110.18750</td>\n",
       "      <td>2016.85</td>\n",
       "      <td>6.3</td>\n",
       "    </tr>\n",
       "    <tr>\n",
       "      <th>...</th>\n",
       "      <th>...</th>\n",
       "      <td>...</td>\n",
       "      <td>...</td>\n",
       "      <td>...</td>\n",
       "      <td>...</td>\n",
       "      <td>...</td>\n",
       "    </tr>\n",
       "    <tr>\n",
       "      <th>VA</th>\n",
       "      <th>Virginia Beach</th>\n",
       "      <td>395194.0</td>\n",
       "      <td>36.0</td>\n",
       "      <td>1266.18750</td>\n",
       "      <td>2016.85</td>\n",
       "      <td>6.3</td>\n",
       "    </tr>\n",
       "    <tr>\n",
       "      <th rowspan=\"2\" valign=\"top\">WA</th>\n",
       "      <th>Seattle</th>\n",
       "      <td>395078.0</td>\n",
       "      <td>15.0</td>\n",
       "      <td>1729.12500</td>\n",
       "      <td>2016.85</td>\n",
       "      <td>6.3</td>\n",
       "    </tr>\n",
       "    <tr>\n",
       "      <th>Spokane</th>\n",
       "      <td>395113.0</td>\n",
       "      <td>99.0</td>\n",
       "      <td>1004.35443</td>\n",
       "      <td>2016.85</td>\n",
       "      <td>6.3</td>\n",
       "    </tr>\n",
       "    <tr>\n",
       "      <th rowspan=\"2\" valign=\"top\">WI</th>\n",
       "      <th>Madison</th>\n",
       "      <td>394816.0</td>\n",
       "      <td>87.0</td>\n",
       "      <td>1241.22500</td>\n",
       "      <td>2016.85</td>\n",
       "      <td>6.3</td>\n",
       "    </tr>\n",
       "    <tr>\n",
       "      <th>Milwaukee</th>\n",
       "      <td>394862.0</td>\n",
       "      <td>39.0</td>\n",
       "      <td>1030.00000</td>\n",
       "      <td>2016.85</td>\n",
       "      <td>6.3</td>\n",
       "    </tr>\n",
       "  </tbody>\n",
       "</table>\n",
       "<p>105 rows × 5 columns</p>\n",
       "</div>"
      ],
      "text/plain": [
       "                      RegionID  SizeRank       value       yr  period\n",
       "State City                                                           \n",
       "AL    Birmingham      394388.0      49.0  1039.72500  2016.85     6.3\n",
       "AR    Little Rock     394798.0      76.0   861.97500  2016.85     6.3\n",
       "AZ    Phoenix         394976.0      14.0  1225.00000  2016.85     6.3\n",
       "      Tucson          395167.0      53.0  1077.03750  2016.85     6.3\n",
       "CA    Bakersfield     394357.0      63.0  1110.18750  2016.85     6.3\n",
       "...                        ...       ...         ...      ...     ...\n",
       "VA    Virginia Beach  395194.0      36.0  1266.18750  2016.85     6.3\n",
       "WA    Seattle         395078.0      15.0  1729.12500  2016.85     6.3\n",
       "      Spokane         395113.0      99.0  1004.35443  2016.85     6.3\n",
       "WI    Madison         394816.0      87.0  1241.22500  2016.85     6.3\n",
       "      Milwaukee       394862.0      39.0  1030.00000  2016.85     6.3\n",
       "\n",
       "[105 rows x 5 columns]"
      ]
     },
     "execution_count": 24,
     "metadata": {},
     "output_type": "execute_result"
    }
   ],
   "source": [
    "\n",
    "dfZRentalPivot.groupby(['State', 'City']).mean()\n"
   ]
  },
  {
   "cell_type": "markdown",
   "metadata": {},
   "source": [
    "#### Second Question: average rent (value column) for each state and city by year"
   ]
  },
  {
   "cell_type": "code",
   "execution_count": 26,
   "metadata": {},
   "outputs": [
    {
     "data": {
      "text/html": [
       "<div>\n",
       "<style scoped>\n",
       "    .dataframe tbody tr th:only-of-type {\n",
       "        vertical-align: middle;\n",
       "    }\n",
       "\n",
       "    .dataframe tbody tr th {\n",
       "        vertical-align: top;\n",
       "    }\n",
       "\n",
       "    .dataframe thead th {\n",
       "        text-align: right;\n",
       "    }\n",
       "</style>\n",
       "<table border=\"1\" class=\"dataframe\">\n",
       "  <thead>\n",
       "    <tr style=\"text-align: right;\">\n",
       "      <th></th>\n",
       "      <th></th>\n",
       "      <th></th>\n",
       "      <th>RegionID</th>\n",
       "      <th>SizeRank</th>\n",
       "      <th>value</th>\n",
       "      <th>period</th>\n",
       "    </tr>\n",
       "    <tr>\n",
       "      <th>State</th>\n",
       "      <th>City</th>\n",
       "      <th>yr</th>\n",
       "      <th></th>\n",
       "      <th></th>\n",
       "      <th></th>\n",
       "      <th></th>\n",
       "    </tr>\n",
       "  </thead>\n",
       "  <tbody>\n",
       "    <tr>\n",
       "      <th rowspan=\"5\" valign=\"top\">AL</th>\n",
       "      <th rowspan=\"5\" valign=\"top\">Birmingham</th>\n",
       "      <th>2014</th>\n",
       "      <td>394388.0</td>\n",
       "      <td>49.0</td>\n",
       "      <td>971.916667</td>\n",
       "      <td>6.5</td>\n",
       "    </tr>\n",
       "    <tr>\n",
       "      <th>2015</th>\n",
       "      <td>394388.0</td>\n",
       "      <td>49.0</td>\n",
       "      <td>995.250000</td>\n",
       "      <td>6.5</td>\n",
       "    </tr>\n",
       "    <tr>\n",
       "      <th>2016</th>\n",
       "      <td>394388.0</td>\n",
       "      <td>49.0</td>\n",
       "      <td>1013.166667</td>\n",
       "      <td>6.5</td>\n",
       "    </tr>\n",
       "    <tr>\n",
       "      <th>2017</th>\n",
       "      <td>394388.0</td>\n",
       "      <td>49.0</td>\n",
       "      <td>1034.916667</td>\n",
       "      <td>6.5</td>\n",
       "    </tr>\n",
       "    <tr>\n",
       "      <th>2018</th>\n",
       "      <td>394388.0</td>\n",
       "      <td>49.0</td>\n",
       "      <td>1061.833333</td>\n",
       "      <td>6.5</td>\n",
       "    </tr>\n",
       "    <tr>\n",
       "      <th>...</th>\n",
       "      <th>...</th>\n",
       "      <th>...</th>\n",
       "      <td>...</td>\n",
       "      <td>...</td>\n",
       "      <td>...</td>\n",
       "      <td>...</td>\n",
       "    </tr>\n",
       "    <tr>\n",
       "      <th rowspan=\"5\" valign=\"top\">WI</th>\n",
       "      <th rowspan=\"5\" valign=\"top\">Milwaukee</th>\n",
       "      <th>2016</th>\n",
       "      <td>394862.0</td>\n",
       "      <td>39.0</td>\n",
       "      <td>1016.083333</td>\n",
       "      <td>6.5</td>\n",
       "    </tr>\n",
       "    <tr>\n",
       "      <th>2017</th>\n",
       "      <td>394862.0</td>\n",
       "      <td>39.0</td>\n",
       "      <td>1031.250000</td>\n",
       "      <td>6.5</td>\n",
       "    </tr>\n",
       "    <tr>\n",
       "      <th>2018</th>\n",
       "      <td>394862.0</td>\n",
       "      <td>39.0</td>\n",
       "      <td>1051.250000</td>\n",
       "      <td>6.5</td>\n",
       "    </tr>\n",
       "    <tr>\n",
       "      <th>2019</th>\n",
       "      <td>394862.0</td>\n",
       "      <td>39.0</td>\n",
       "      <td>1077.833333</td>\n",
       "      <td>6.5</td>\n",
       "    </tr>\n",
       "    <tr>\n",
       "      <th>2020</th>\n",
       "      <td>394862.0</td>\n",
       "      <td>39.0</td>\n",
       "      <td>1098.000000</td>\n",
       "      <td>4.5</td>\n",
       "    </tr>\n",
       "  </tbody>\n",
       "</table>\n",
       "<p>735 rows × 4 columns</p>\n",
       "</div>"
      ],
      "text/plain": [
       "                       RegionID  SizeRank        value  period\n",
       "State City       yr                                           \n",
       "AL    Birmingham 2014  394388.0      49.0   971.916667     6.5\n",
       "                 2015  394388.0      49.0   995.250000     6.5\n",
       "                 2016  394388.0      49.0  1013.166667     6.5\n",
       "                 2017  394388.0      49.0  1034.916667     6.5\n",
       "                 2018  394388.0      49.0  1061.833333     6.5\n",
       "...                         ...       ...          ...     ...\n",
       "WI    Milwaukee  2016  394862.0      39.0  1016.083333     6.5\n",
       "                 2017  394862.0      39.0  1031.250000     6.5\n",
       "                 2018  394862.0      39.0  1051.250000     6.5\n",
       "                 2019  394862.0      39.0  1077.833333     6.5\n",
       "                 2020  394862.0      39.0  1098.000000     4.5\n",
       "\n",
       "[735 rows x 4 columns]"
      ]
     },
     "execution_count": 26,
     "metadata": {},
     "output_type": "execute_result"
    }
   ],
   "source": [
    "dfZRentalPivot.groupby(['State', 'City', 'yr']).mean()"
   ]
  },
  {
   "cell_type": "markdown",
   "metadata": {},
   "source": [
    "#### Third Question: Max rent (value column) for each state by year"
   ]
  },
  {
   "cell_type": "code",
   "execution_count": 27,
   "metadata": {},
   "outputs": [
    {
     "data": {
      "text/html": [
       "<div>\n",
       "<style scoped>\n",
       "    .dataframe tbody tr th:only-of-type {\n",
       "        vertical-align: middle;\n",
       "    }\n",
       "\n",
       "    .dataframe tbody tr th {\n",
       "        vertical-align: top;\n",
       "    }\n",
       "\n",
       "    .dataframe thead th {\n",
       "        text-align: right;\n",
       "    }\n",
       "</style>\n",
       "<table border=\"1\" class=\"dataframe\">\n",
       "  <thead>\n",
       "    <tr style=\"text-align: right;\">\n",
       "      <th></th>\n",
       "      <th></th>\n",
       "      <th>RegionID</th>\n",
       "      <th>RegionName</th>\n",
       "      <th>SizeRank</th>\n",
       "      <th>YYYY-MM-DD</th>\n",
       "      <th>value</th>\n",
       "      <th>period</th>\n",
       "      <th>City</th>\n",
       "    </tr>\n",
       "    <tr>\n",
       "      <th>State</th>\n",
       "      <th>yr</th>\n",
       "      <th></th>\n",
       "      <th></th>\n",
       "      <th></th>\n",
       "      <th></th>\n",
       "      <th></th>\n",
       "      <th></th>\n",
       "      <th></th>\n",
       "    </tr>\n",
       "  </thead>\n",
       "  <tbody>\n",
       "    <tr>\n",
       "      <th rowspan=\"5\" valign=\"top\">AL</th>\n",
       "      <th>2014</th>\n",
       "      <td>394388</td>\n",
       "      <td>Birmingham, AL</td>\n",
       "      <td>49</td>\n",
       "      <td>2014-12</td>\n",
       "      <td>982.0</td>\n",
       "      <td>12</td>\n",
       "      <td>Birmingham</td>\n",
       "    </tr>\n",
       "    <tr>\n",
       "      <th>2015</th>\n",
       "      <td>394388</td>\n",
       "      <td>Birmingham, AL</td>\n",
       "      <td>49</td>\n",
       "      <td>2015-12</td>\n",
       "      <td>1005.0</td>\n",
       "      <td>12</td>\n",
       "      <td>Birmingham</td>\n",
       "    </tr>\n",
       "    <tr>\n",
       "      <th>2016</th>\n",
       "      <td>394388</td>\n",
       "      <td>Birmingham, AL</td>\n",
       "      <td>49</td>\n",
       "      <td>2016-12</td>\n",
       "      <td>1019.0</td>\n",
       "      <td>12</td>\n",
       "      <td>Birmingham</td>\n",
       "    </tr>\n",
       "    <tr>\n",
       "      <th>2017</th>\n",
       "      <td>394388</td>\n",
       "      <td>Birmingham, AL</td>\n",
       "      <td>49</td>\n",
       "      <td>2017-12</td>\n",
       "      <td>1048.0</td>\n",
       "      <td>12</td>\n",
       "      <td>Birmingham</td>\n",
       "    </tr>\n",
       "    <tr>\n",
       "      <th>2018</th>\n",
       "      <td>394388</td>\n",
       "      <td>Birmingham, AL</td>\n",
       "      <td>49</td>\n",
       "      <td>2018-12</td>\n",
       "      <td>1080.0</td>\n",
       "      <td>12</td>\n",
       "      <td>Birmingham</td>\n",
       "    </tr>\n",
       "    <tr>\n",
       "      <th>...</th>\n",
       "      <th>...</th>\n",
       "      <td>...</td>\n",
       "      <td>...</td>\n",
       "      <td>...</td>\n",
       "      <td>...</td>\n",
       "      <td>...</td>\n",
       "      <td>...</td>\n",
       "      <td>...</td>\n",
       "    </tr>\n",
       "    <tr>\n",
       "      <th rowspan=\"5\" valign=\"top\">WI</th>\n",
       "      <th>2016</th>\n",
       "      <td>394862</td>\n",
       "      <td>Milwaukee, WI</td>\n",
       "      <td>87</td>\n",
       "      <td>2016-12</td>\n",
       "      <td>1236.0</td>\n",
       "      <td>12</td>\n",
       "      <td>Milwaukee</td>\n",
       "    </tr>\n",
       "    <tr>\n",
       "      <th>2017</th>\n",
       "      <td>394862</td>\n",
       "      <td>Milwaukee, WI</td>\n",
       "      <td>87</td>\n",
       "      <td>2017-12</td>\n",
       "      <td>1261.0</td>\n",
       "      <td>12</td>\n",
       "      <td>Milwaukee</td>\n",
       "    </tr>\n",
       "    <tr>\n",
       "      <th>2018</th>\n",
       "      <td>394862</td>\n",
       "      <td>Milwaukee, WI</td>\n",
       "      <td>87</td>\n",
       "      <td>2018-12</td>\n",
       "      <td>1291.0</td>\n",
       "      <td>12</td>\n",
       "      <td>Milwaukee</td>\n",
       "    </tr>\n",
       "    <tr>\n",
       "      <th>2019</th>\n",
       "      <td>394862</td>\n",
       "      <td>Milwaukee, WI</td>\n",
       "      <td>87</td>\n",
       "      <td>2019-12</td>\n",
       "      <td>1320.0</td>\n",
       "      <td>12</td>\n",
       "      <td>Milwaukee</td>\n",
       "    </tr>\n",
       "    <tr>\n",
       "      <th>2020</th>\n",
       "      <td>394862</td>\n",
       "      <td>Milwaukee, WI</td>\n",
       "      <td>87</td>\n",
       "      <td>2020-08</td>\n",
       "      <td>1340.0</td>\n",
       "      <td>8</td>\n",
       "      <td>Milwaukee</td>\n",
       "    </tr>\n",
       "  </tbody>\n",
       "</table>\n",
       "<p>280 rows × 7 columns</p>\n",
       "</div>"
      ],
      "text/plain": [
       "            RegionID      RegionName  SizeRank YYYY-MM-DD   value  period  \\\n",
       "State yr                                                                    \n",
       "AL    2014    394388  Birmingham, AL        49    2014-12   982.0      12   \n",
       "      2015    394388  Birmingham, AL        49    2015-12  1005.0      12   \n",
       "      2016    394388  Birmingham, AL        49    2016-12  1019.0      12   \n",
       "      2017    394388  Birmingham, AL        49    2017-12  1048.0      12   \n",
       "      2018    394388  Birmingham, AL        49    2018-12  1080.0      12   \n",
       "...              ...             ...       ...        ...     ...     ...   \n",
       "WI    2016    394862   Milwaukee, WI        87    2016-12  1236.0      12   \n",
       "      2017    394862   Milwaukee, WI        87    2017-12  1261.0      12   \n",
       "      2018    394862   Milwaukee, WI        87    2018-12  1291.0      12   \n",
       "      2019    394862   Milwaukee, WI        87    2019-12  1320.0      12   \n",
       "      2020    394862   Milwaukee, WI        87    2020-08  1340.0       8   \n",
       "\n",
       "                  City  \n",
       "State yr                \n",
       "AL    2014  Birmingham  \n",
       "      2015  Birmingham  \n",
       "      2016  Birmingham  \n",
       "      2017  Birmingham  \n",
       "      2018  Birmingham  \n",
       "...                ...  \n",
       "WI    2016   Milwaukee  \n",
       "      2017   Milwaukee  \n",
       "      2018   Milwaukee  \n",
       "      2019   Milwaukee  \n",
       "      2020   Milwaukee  \n",
       "\n",
       "[280 rows x 7 columns]"
      ]
     },
     "execution_count": 27,
     "metadata": {},
     "output_type": "execute_result"
    }
   ],
   "source": [
    "dfZRentalPivot.groupby(['State', 'yr']).max()"
   ]
  }
 ],
 "metadata": {
  "kernelspec": {
   "display_name": "Python 3",
   "language": "python",
   "name": "python3"
  },
  "language_info": {
   "codemirror_mode": {
    "name": "ipython",
    "version": 3
   },
   "file_extension": ".py",
   "mimetype": "text/x-python",
   "name": "python",
   "nbconvert_exporter": "python",
   "pygments_lexer": "ipython3",
   "version": "3.8.3"
  }
 },
 "nbformat": 4,
 "nbformat_minor": 4
}
