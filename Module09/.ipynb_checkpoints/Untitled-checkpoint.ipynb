{
 "cells": [
  {
   "cell_type": "markdown",
   "metadata": {},
   "source": [
    "# Module 9: Scrum Activity and Unix command line\n",
    "\n",
    "## ESSENTIAL QUESTIONS\n",
    "* How do you write a good user story?\n",
    "* How do you prioritize stories in a sprint?\n",
    "* What tasks support a sprint user story?\n",
    "* How to interact with our system using the command line?\n",
    "\n",
    "## Terminology\n",
    "\n",
    "**User Story**\n",
    "* A means of stating requirements\n",
    "* Format: “As a user type, I want to user action [for a reason (optional)].\n",
    "* Statements about what function the system performs for a given user type\n",
    "* The optional reason can be used to better understand the feature/requirement and could aid in its design, interface, or placement.\n",
    "* A statement of “what,” not “how.” Stated at a high level\n",
    "* User stories usually come with acceptance criteria: a means of measuring or evaluating if that feature/requirement was properly implemented (criteria for “what it means to be done”).\n",
    "\n",
    "**Sprint**\n",
    "* Development is divided into a number of sprints.\n",
    "* A sprint is a time frame (e.g., two weeks, a month, etc.) in which development takes place and at the end of this time period, a working version of code is produced (have something that runs at the end of each sprint).\n",
    "* An initial (first) sprint and subsequent sprints occur until the software is fully developed and released.\n",
    "* During a sprint, there are often daily “Scrum meetings” where members of the group/team come together to assess progress and discuss issues. \n",
    "* Selected user stories are prioritized by the team.\n",
    "\n",
    "**Product Backlog**\n",
    "* A comprehensive set of user stories for the entire application that describes what the entire system does\n",
    "* This set of user stories can be edited (user stories can be added, removed, or modified as needed/as more information is acquired).\n",
    "* User stories from the product backlog are selected and implemented in each sprint.\n",
    "* User stories in the product backlog are usually prioritized.\n",
    "\n",
    "**Sprint Backlog**\n",
    "* A subset of requirements (user stories), originating from the product backlog, to be implemented during a given sprint\n",
    "* To determine what to work on during a given sprint, some user stories are selected from the product backlog and those user stories (features/requirements) are implemented.\n",
    "\n",
    "**Tasks**\n",
    "* For each user story, in addition to acceptance criteria, there are tasks.\n",
    "* Task can be technical in nature, but they do not have to be.\n",
    "* These tasks, put together, make up all the things that have to be done to implement the features/requirements of that user story.\n",
    "* Tasks are carried out by members of the group.\n",
    "\n"
   ]
  }
 ],
 "metadata": {
  "kernelspec": {
   "display_name": "Python 3",
   "language": "python",
   "name": "python3"
  },
  "language_info": {
   "codemirror_mode": {
    "name": "ipython",
    "version": 3
   },
   "file_extension": ".py",
   "mimetype": "text/x-python",
   "name": "python",
   "nbconvert_exporter": "python",
   "pygments_lexer": "ipython3",
   "version": "3.8.3"
  }
 },
 "nbformat": 4,
 "nbformat_minor": 4
}
