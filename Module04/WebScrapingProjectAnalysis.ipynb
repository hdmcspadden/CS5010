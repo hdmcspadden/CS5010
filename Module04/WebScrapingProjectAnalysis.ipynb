# -*- coding: utf-8 -*-
"""
Activity: Homework: Python and Web Scraper
Name: H. Diana McSpadden
UID: hdm5s
"""

"""
Determine number of headlines by:
 1. site
 2. date
 3. category
 
Determine if the headline text needs to be cleaned before further analysis

Remove stop words using NLTK library


do word frequency analysis when sectioning that headlines by:
1. all headlines 
3. headlines by site
2. headlines by category

"""  
#%%
# import libraries I require
from numpy import *
import pandas as pd
from nltk.corpus import stopwords

#%%

# read the csv with my collected news stories


  