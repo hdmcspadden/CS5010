{
 "cells": [
  {
   "cell_type": "markdown",
   "metadata": {},
   "source": [
    "## Activity: Homework 3: Python and Web Scraper\n",
    "### Name: H. Diana McSpadden\n",
    "### UID: hdm5s\n",
    "\n",
    "Determine number of headlines by:\n",
    " 1. site\n",
    " 2. date\n",
    " 3. category\n",
    " \n",
    "Determine if the headline text needs to be cleaned before further analysis\n",
    "\n",
    "Remove stop words using NLTK library\n",
    "\n",
    "Perform word frequency analysis of cleaned, non-stop-words words\n"
   ]
  },
  {
   "cell_type": "code",
   "execution_count": 107,
   "metadata": {},
   "outputs": [
    {
     "name": "stderr",
     "output_type": "stream",
     "text": [
      "[nltk_data] Downloading package stopwords to C:\\Users\\Diana\n",
      "[nltk_data]     McSpadden\\AppData\\Roaming\\nltk_data...\n",
      "[nltk_data]   Package stopwords is already up-to-date!\n",
      "[nltk_data] Downloading package punkt to C:\\Users\\Diana\n",
      "[nltk_data]     McSpadden\\AppData\\Roaming\\nltk_data...\n",
      "[nltk_data]   Package punkt is already up-to-date!\n",
      "[nltk_data] Downloading package webtext to C:\\Users\\Diana\n",
      "[nltk_data]     McSpadden\\AppData\\Roaming\\nltk_data...\n",
      "[nltk_data]   Package webtext is already up-to-date!\n"
     ]
    },
    {
     "data": {
      "text/plain": [
       "True"
      ]
     },
     "execution_count": 107,
     "metadata": {},
     "output_type": "execute_result"
    }
   ],
   "source": [
    "# import needed libraries \n",
    "from numpy import *\n",
    "import pandas as pd\n",
    "import nltk\n",
    "import functools\n",
    "\n",
    "from nltk.tokenize import word_tokenize\n",
    "from nltk.corpus import stopwords # used for removing stop words\n",
    "from nltk.probability import FreqDist # used for frequency of words\n",
    "\n",
    "nltk.download('stopwords')\n",
    "nltk.download('punkt')\n",
    "nltk.download('webtext')\n"
   ]
  },
  {
   "cell_type": "code",
   "execution_count": 63,
   "metadata": {},
   "outputs": [],
   "source": [
    "# read csv file of news headlines from 6 news websites\n",
    "df = pd.read_csv('newsarticles.csv',header=0,encoding = \"ISO-8859-1\")"
   ]
  },
  {
   "cell_type": "code",
   "execution_count": 64,
   "metadata": {},
   "outputs": [
    {
     "data": {
      "text/html": [
       "<div>\n",
       "<style scoped>\n",
       "    .dataframe tbody tr th:only-of-type {\n",
       "        vertical-align: middle;\n",
       "    }\n",
       "\n",
       "    .dataframe tbody tr th {\n",
       "        vertical-align: top;\n",
       "    }\n",
       "\n",
       "    .dataframe thead th {\n",
       "        text-align: right;\n",
       "    }\n",
       "</style>\n",
       "<table border=\"1\" class=\"dataframe\">\n",
       "  <thead>\n",
       "    <tr style=\"text-align: right;\">\n",
       "      <th></th>\n",
       "      <th>site</th>\n",
       "      <th>headline</th>\n",
       "      <th>storyURL</th>\n",
       "      <th>scrapedate</th>\n",
       "      <th>cat</th>\n",
       "    </tr>\n",
       "  </thead>\n",
       "  <tbody>\n",
       "    <tr>\n",
       "      <th>0</th>\n",
       "      <td>abc</td>\n",
       "      <td>Biden legal team preps for November voting fight</td>\n",
       "      <td>https://abcnews.go.com/Politics/biden-campaign...</td>\n",
       "      <td>9/14/2020 19:19</td>\n",
       "      <td>lightblue</td>\n",
       "    </tr>\n",
       "    <tr>\n",
       "      <th>1</th>\n",
       "      <td>abc</td>\n",
       "      <td>Wildfires intensify economic pain in the West</td>\n",
       "      <td>https://abcnews.go.com/Business/wireStory/wild...</td>\n",
       "      <td>9/14/2020 19:19</td>\n",
       "      <td>lightblue</td>\n",
       "    </tr>\n",
       "    <tr>\n",
       "      <th>2</th>\n",
       "      <td>abc</td>\n",
       "      <td>Victims' names released in attack near Rutgers</td>\n",
       "      <td>https://abcnews.go.com/US/gunmen-sought-deadly...</td>\n",
       "      <td>9/14/2020 19:19</td>\n",
       "      <td>lightblue</td>\n",
       "    </tr>\n",
       "    <tr>\n",
       "      <th>3</th>\n",
       "      <td>abc</td>\n",
       "      <td>3 dead, 3 wounded in violent rampage in Tenn.</td>\n",
       "      <td>https://abcnews.go.com/US/wireStory/officials-...</td>\n",
       "      <td>9/14/2020 19:19</td>\n",
       "      <td>lightblue</td>\n",
       "    </tr>\n",
       "    <tr>\n",
       "      <th>4</th>\n",
       "      <td>abc</td>\n",
       "      <td>Feds probing in-custody death of Black man in La.</td>\n",
       "      <td>https://abcnews.go.com/US/wireStory/ap-feds-pr...</td>\n",
       "      <td>9/14/2020 19:19</td>\n",
       "      <td>lightblue</td>\n",
       "    </tr>\n",
       "  </tbody>\n",
       "</table>\n",
       "</div>"
      ],
      "text/plain": [
       "  site                                           headline  \\\n",
       "0  abc   Biden legal team preps for November voting fight   \n",
       "1  abc      Wildfires intensify economic pain in the West   \n",
       "2  abc    Victims' names released in attack near Rutgers    \n",
       "3  abc      3 dead, 3 wounded in violent rampage in Tenn.   \n",
       "4  abc  Feds probing in-custody death of Black man in La.   \n",
       "\n",
       "                                            storyURL       scrapedate  \\\n",
       "0  https://abcnews.go.com/Politics/biden-campaign...  9/14/2020 19:19   \n",
       "1  https://abcnews.go.com/Business/wireStory/wild...  9/14/2020 19:19   \n",
       "2  https://abcnews.go.com/US/gunmen-sought-deadly...  9/14/2020 19:19   \n",
       "3  https://abcnews.go.com/US/wireStory/officials-...  9/14/2020 19:19   \n",
       "4  https://abcnews.go.com/US/wireStory/ap-feds-pr...  9/14/2020 19:19   \n",
       "\n",
       "         cat  \n",
       "0  lightblue  \n",
       "1  lightblue  \n",
       "2  lightblue  \n",
       "3  lightblue  \n",
       "4  lightblue  "
      ]
     },
     "execution_count": 64,
     "metadata": {},
     "output_type": "execute_result"
    }
   ],
   "source": [
    "# print the head\n",
    "df.head()"
   ]
  },
  {
   "cell_type": "code",
   "execution_count": 65,
   "metadata": {},
   "outputs": [
    {
     "data": {
      "text/html": [
       "<div>\n",
       "<style scoped>\n",
       "    .dataframe tbody tr th:only-of-type {\n",
       "        vertical-align: middle;\n",
       "    }\n",
       "\n",
       "    .dataframe tbody tr th {\n",
       "        vertical-align: top;\n",
       "    }\n",
       "\n",
       "    .dataframe thead th {\n",
       "        text-align: right;\n",
       "    }\n",
       "</style>\n",
       "<table border=\"1\" class=\"dataframe\">\n",
       "  <thead>\n",
       "    <tr style=\"text-align: right;\">\n",
       "      <th></th>\n",
       "      <th>site</th>\n",
       "      <th>headline</th>\n",
       "      <th>storyURL</th>\n",
       "      <th>scrapedate</th>\n",
       "      <th>cat</th>\n",
       "    </tr>\n",
       "  </thead>\n",
       "  <tbody>\n",
       "    <tr>\n",
       "      <th>1611</th>\n",
       "      <td>reason</td>\n",
       "      <td>['Taghi Amirani: How the U.S.-Backed 1953 Coup...</td>\n",
       "      <td>https://reason.com/podcast/taghi-amirani-how-t...</td>\n",
       "      <td>2020-09-17 08:16:30</td>\n",
       "      <td>lightred</td>\n",
       "    </tr>\n",
       "    <tr>\n",
       "      <th>1612</th>\n",
       "      <td>reason</td>\n",
       "      <td>['Homeschooling Hits a Tipping Point']</td>\n",
       "      <td>https://reason.com/2020/09/16/homeschooling-hi...</td>\n",
       "      <td>2020-09-17 08:16:30</td>\n",
       "      <td>lightred</td>\n",
       "    </tr>\n",
       "    <tr>\n",
       "      <th>1613</th>\n",
       "      <td>reason</td>\n",
       "      <td>['U.S. Withdraws Foolish Threat of New Tariffs...</td>\n",
       "      <td>https://reason.com/2020/09/16/u-s-withdraws-fo...</td>\n",
       "      <td>2020-09-17 08:16:30</td>\n",
       "      <td>lightred</td>\n",
       "    </tr>\n",
       "    <tr>\n",
       "      <th>1614</th>\n",
       "      <td>reason</td>\n",
       "      <td>['New FCC Nominee Has Already Been Helping Tru...</td>\n",
       "      <td>https://reason.com/2020/09/16/new-fcc-nominee-...</td>\n",
       "      <td>2020-09-17 08:16:30</td>\n",
       "      <td>lightred</td>\n",
       "    </tr>\n",
       "    <tr>\n",
       "      <th>1615</th>\n",
       "      <td>reason</td>\n",
       "      <td>['Brickbat: Stop Cutting the Cheese']</td>\n",
       "      <td>https://reason.com/2020/09/16/brickbat-stop-cu...</td>\n",
       "      <td>2020-09-17 08:16:30</td>\n",
       "      <td>lightred</td>\n",
       "    </tr>\n",
       "  </tbody>\n",
       "</table>\n",
       "</div>"
      ],
      "text/plain": [
       "        site                                           headline  \\\n",
       "1611  reason  ['Taghi Amirani: How the U.S.-Backed 1953 Coup...   \n",
       "1612  reason             ['Homeschooling Hits a Tipping Point']   \n",
       "1613  reason  ['U.S. Withdraws Foolish Threat of New Tariffs...   \n",
       "1614  reason  ['New FCC Nominee Has Already Been Helping Tru...   \n",
       "1615  reason              ['Brickbat: Stop Cutting the Cheese']   \n",
       "\n",
       "                                               storyURL           scrapedate  \\\n",
       "1611  https://reason.com/podcast/taghi-amirani-how-t...  2020-09-17 08:16:30   \n",
       "1612  https://reason.com/2020/09/16/homeschooling-hi...  2020-09-17 08:16:30   \n",
       "1613  https://reason.com/2020/09/16/u-s-withdraws-fo...  2020-09-17 08:16:30   \n",
       "1614  https://reason.com/2020/09/16/new-fcc-nominee-...  2020-09-17 08:16:30   \n",
       "1615  https://reason.com/2020/09/16/brickbat-stop-cu...  2020-09-17 08:16:30   \n",
       "\n",
       "           cat  \n",
       "1611  lightred  \n",
       "1612  lightred  \n",
       "1613  lightred  \n",
       "1614  lightred  \n",
       "1615  lightred  "
      ]
     },
     "execution_count": 65,
     "metadata": {},
     "output_type": "execute_result"
    }
   ],
   "source": [
    "# print the tail\n",
    "df.tail()"
   ]
  },
  {
   "cell_type": "code",
   "execution_count": 66,
   "metadata": {},
   "outputs": [
    {
     "data": {
      "text/html": [
       "<div>\n",
       "<style scoped>\n",
       "    .dataframe tbody tr th:only-of-type {\n",
       "        vertical-align: middle;\n",
       "    }\n",
       "\n",
       "    .dataframe tbody tr th {\n",
       "        vertical-align: top;\n",
       "    }\n",
       "\n",
       "    .dataframe thead th {\n",
       "        text-align: right;\n",
       "    }\n",
       "</style>\n",
       "<table border=\"1\" class=\"dataframe\">\n",
       "  <thead>\n",
       "    <tr style=\"text-align: right;\">\n",
       "      <th></th>\n",
       "      <th>site</th>\n",
       "      <th>headline</th>\n",
       "      <th>storyURL</th>\n",
       "      <th>scrapedate</th>\n",
       "      <th>cat</th>\n",
       "    </tr>\n",
       "  </thead>\n",
       "  <tbody>\n",
       "    <tr>\n",
       "      <th>count</th>\n",
       "      <td>1616</td>\n",
       "      <td>1616</td>\n",
       "      <td>1616</td>\n",
       "      <td>1616</td>\n",
       "      <td>1616</td>\n",
       "    </tr>\n",
       "    <tr>\n",
       "      <th>unique</th>\n",
       "      <td>6</td>\n",
       "      <td>668</td>\n",
       "      <td>650</td>\n",
       "      <td>8</td>\n",
       "      <td>3</td>\n",
       "    </tr>\n",
       "    <tr>\n",
       "      <th>top</th>\n",
       "      <td>cbs</td>\n",
       "      <td>['\\n            Family of Carole Baskin\\'s mis...</td>\n",
       "      <td>https://www.cbsnews.com/video/cbsn-originals-p...</td>\n",
       "      <td>2020-09-15 18:01:57</td>\n",
       "      <td>lightblue</td>\n",
       "    </tr>\n",
       "    <tr>\n",
       "      <th>freq</th>\n",
       "      <td>1038</td>\n",
       "      <td>13</td>\n",
       "      <td>17</td>\n",
       "      <td>220</td>\n",
       "      <td>1134</td>\n",
       "    </tr>\n",
       "  </tbody>\n",
       "</table>\n",
       "</div>"
      ],
      "text/plain": [
       "        site                                           headline  \\\n",
       "count   1616                                               1616   \n",
       "unique     6                                                668   \n",
       "top      cbs  ['\\n            Family of Carole Baskin\\'s mis...   \n",
       "freq    1038                                                 13   \n",
       "\n",
       "                                                 storyURL  \\\n",
       "count                                                1616   \n",
       "unique                                                650   \n",
       "top     https://www.cbsnews.com/video/cbsn-originals-p...   \n",
       "freq                                                   17   \n",
       "\n",
       "                 scrapedate        cat  \n",
       "count                  1616       1616  \n",
       "unique                    8          3  \n",
       "top     2020-09-15 18:01:57  lightblue  \n",
       "freq                    220       1134  "
      ]
     },
     "execution_count": 66,
     "metadata": {},
     "output_type": "execute_result"
    }
   ],
   "source": [
    "# use describe to determine if ther eis any missing data, and basic details of data set\n",
    "df.describe()"
   ]
  },
  {
   "cell_type": "markdown",
   "metadata": {},
   "source": [
    "From df.describe we learn\n",
    "1. There are 1616 rows in the dataset\n",
    "1. There are 5 columns in the dataset\n",
    "1. Each rows has a value in every column\n",
    "1. The columns are site, headline, storyURL, scrapedate, and cat\n",
    "1. site: 6 unique values\n",
    "1. headline: 668 unique values\n",
    "1. storyURL: 650 unique values\n",
    "1. scrapedate: 8 unique values\n",
    "1. cat: 3 unique values"
   ]
  },
  {
   "cell_type": "markdown",
   "metadata": {},
   "source": [
    "#### Question 1: Number of Unique Headlines By Site"
   ]
  },
  {
   "cell_type": "code",
   "execution_count": 67,
   "metadata": {},
   "outputs": [
    {
     "data": {
      "text/html": [
       "<div>\n",
       "<style scoped>\n",
       "    .dataframe tbody tr th:only-of-type {\n",
       "        vertical-align: middle;\n",
       "    }\n",
       "\n",
       "    .dataframe tbody tr th {\n",
       "        vertical-align: top;\n",
       "    }\n",
       "\n",
       "    .dataframe thead th {\n",
       "        text-align: right;\n",
       "    }\n",
       "</style>\n",
       "<table border=\"1\" class=\"dataframe\">\n",
       "  <thead>\n",
       "    <tr style=\"text-align: right;\">\n",
       "      <th></th>\n",
       "      <th>headline</th>\n",
       "      <th>storyURL</th>\n",
       "      <th>scrapedate</th>\n",
       "      <th>cat</th>\n",
       "    </tr>\n",
       "    <tr>\n",
       "      <th>site</th>\n",
       "      <th></th>\n",
       "      <th></th>\n",
       "      <th></th>\n",
       "      <th></th>\n",
       "    </tr>\n",
       "  </thead>\n",
       "  <tbody>\n",
       "    <tr>\n",
       "      <th>abc</th>\n",
       "      <td>68</td>\n",
       "      <td>67</td>\n",
       "      <td>8</td>\n",
       "      <td>1</td>\n",
       "    </tr>\n",
       "    <tr>\n",
       "      <th>ap</th>\n",
       "      <td>47</td>\n",
       "      <td>39</td>\n",
       "      <td>6</td>\n",
       "      <td>1</td>\n",
       "    </tr>\n",
       "    <tr>\n",
       "      <th>cbs</th>\n",
       "      <td>271</td>\n",
       "      <td>271</td>\n",
       "      <td>8</td>\n",
       "      <td>1</td>\n",
       "    </tr>\n",
       "    <tr>\n",
       "      <th>fox</th>\n",
       "      <td>176</td>\n",
       "      <td>169</td>\n",
       "      <td>6</td>\n",
       "      <td>1</td>\n",
       "    </tr>\n",
       "    <tr>\n",
       "      <th>npr</th>\n",
       "      <td>87</td>\n",
       "      <td>85</td>\n",
       "      <td>8</td>\n",
       "      <td>1</td>\n",
       "    </tr>\n",
       "    <tr>\n",
       "      <th>reason</th>\n",
       "      <td>19</td>\n",
       "      <td>19</td>\n",
       "      <td>6</td>\n",
       "      <td>1</td>\n",
       "    </tr>\n",
       "  </tbody>\n",
       "</table>\n",
       "</div>"
      ],
      "text/plain": [
       "        headline  storyURL  scrapedate  cat\n",
       "site                                       \n",
       "abc           68        67           8    1\n",
       "ap            47        39           6    1\n",
       "cbs          271       271           8    1\n",
       "fox          176       169           6    1\n",
       "npr           87        85           8    1\n",
       "reason        19        19           6    1"
      ]
     },
     "execution_count": 67,
     "metadata": {},
     "output_type": "execute_result"
    }
   ],
   "source": [
    "# Determine number of unique values by site\n",
    "# groupby site and return number of uniques with nunique()\n",
    "dfcountsq1 = df.groupby('site').nunique()\n",
    "dfcountsq1"
   ]
  },
  {
   "cell_type": "markdown",
   "metadata": {},
   "source": [
    "This is interesting. It looks like ABC, AP, FOX, and NPR ran at least one storyURL with different headlines.\n",
    "\n",
    "Was this A/B Testing of headlines?"
   ]
  },
  {
   "cell_type": "markdown",
   "metadata": {},
   "source": [
    "##### Answer 1:\n",
    "\n",
    "**ABC**: 68 unique headlines\n",
    "\n",
    "**AP**: 47 unique headlines\n",
    "\n",
    "**CBS**: 271 unique headlines\n",
    "\n",
    "**FOX**: 176 unique headlines\n",
    "\n",
    "**NPR NEWS**: 87 unique headlines\n",
    "\n",
    "**REASON**: 19 unique headlines"
   ]
  },
  {
   "cell_type": "markdown",
   "metadata": {},
   "source": [
    "#### Question 2: Number of Unique Headlines By Date"
   ]
  },
  {
   "cell_type": "code",
   "execution_count": 68,
   "metadata": {},
   "outputs": [
    {
     "data": {
      "text/html": [
       "<div>\n",
       "<style scoped>\n",
       "    .dataframe tbody tr th:only-of-type {\n",
       "        vertical-align: middle;\n",
       "    }\n",
       "\n",
       "    .dataframe tbody tr th {\n",
       "        vertical-align: top;\n",
       "    }\n",
       "\n",
       "    .dataframe thead th {\n",
       "        text-align: right;\n",
       "    }\n",
       "</style>\n",
       "<table border=\"1\" class=\"dataframe\">\n",
       "  <thead>\n",
       "    <tr style=\"text-align: right;\">\n",
       "      <th></th>\n",
       "      <th>site</th>\n",
       "      <th>headline</th>\n",
       "      <th>storyURL</th>\n",
       "      <th>cat</th>\n",
       "    </tr>\n",
       "    <tr>\n",
       "      <th>scrapedate</th>\n",
       "      <th></th>\n",
       "      <th></th>\n",
       "      <th></th>\n",
       "      <th></th>\n",
       "    </tr>\n",
       "  </thead>\n",
       "  <tbody>\n",
       "    <tr>\n",
       "      <th>2020-09-15 10:18:17</th>\n",
       "      <td>6</td>\n",
       "      <td>181</td>\n",
       "      <td>178</td>\n",
       "      <td>3</td>\n",
       "    </tr>\n",
       "    <tr>\n",
       "      <th>2020-09-15 12:33:31</th>\n",
       "      <td>6</td>\n",
       "      <td>179</td>\n",
       "      <td>176</td>\n",
       "      <td>3</td>\n",
       "    </tr>\n",
       "    <tr>\n",
       "      <th>2020-09-15 18:01:57</th>\n",
       "      <td>6</td>\n",
       "      <td>176</td>\n",
       "      <td>173</td>\n",
       "      <td>3</td>\n",
       "    </tr>\n",
       "    <tr>\n",
       "      <th>2020-09-16 10:58:13</th>\n",
       "      <td>6</td>\n",
       "      <td>180</td>\n",
       "      <td>179</td>\n",
       "      <td>3</td>\n",
       "    </tr>\n",
       "    <tr>\n",
       "      <th>2020-09-16 19:13:38</th>\n",
       "      <td>6</td>\n",
       "      <td>180</td>\n",
       "      <td>180</td>\n",
       "      <td>3</td>\n",
       "    </tr>\n",
       "    <tr>\n",
       "      <th>2020-09-17 08:16:30</th>\n",
       "      <td>6</td>\n",
       "      <td>183</td>\n",
       "      <td>178</td>\n",
       "      <td>3</td>\n",
       "    </tr>\n",
       "    <tr>\n",
       "      <th>9/14/2020 19:19</th>\n",
       "      <td>3</td>\n",
       "      <td>124</td>\n",
       "      <td>119</td>\n",
       "      <td>2</td>\n",
       "    </tr>\n",
       "    <tr>\n",
       "      <th>9/15/2020 7:48</th>\n",
       "      <td>3</td>\n",
       "      <td>135</td>\n",
       "      <td>128</td>\n",
       "      <td>2</td>\n",
       "    </tr>\n",
       "  </tbody>\n",
       "</table>\n",
       "</div>"
      ],
      "text/plain": [
       "                     site  headline  storyURL  cat\n",
       "scrapedate                                        \n",
       "2020-09-15 10:18:17     6       181       178    3\n",
       "2020-09-15 12:33:31     6       179       176    3\n",
       "2020-09-15 18:01:57     6       176       173    3\n",
       "2020-09-16 10:58:13     6       180       179    3\n",
       "2020-09-16 19:13:38     6       180       180    3\n",
       "2020-09-17 08:16:30     6       183       178    3\n",
       "9/14/2020 19:19         3       124       119    2\n",
       "9/15/2020 7:48          3       135       128    2"
      ]
     },
     "execution_count": 68,
     "metadata": {},
     "output_type": "execute_result"
    }
   ],
   "source": [
    "# Determine number of unique values by date\n",
    "# groupby scrapedate and return number of uniques with nunique()\n",
    "dfcountsq2 = df.groupby('scrapedate').nunique()\n",
    "dfcountsq2"
   ]
  },
  {
   "cell_type": "markdown",
   "metadata": {},
   "source": [
    "The first thing I notice is that there are two different date formats. Let's standardize the date format with a map function on the scrapedate values."
   ]
  },
  {
   "cell_type": "code",
   "execution_count": 69,
   "metadata": {},
   "outputs": [
    {
     "data": {
      "text/html": [
       "<div>\n",
       "<style scoped>\n",
       "    .dataframe tbody tr th:only-of-type {\n",
       "        vertical-align: middle;\n",
       "    }\n",
       "\n",
       "    .dataframe tbody tr th {\n",
       "        vertical-align: top;\n",
       "    }\n",
       "\n",
       "    .dataframe thead th {\n",
       "        text-align: right;\n",
       "    }\n",
       "</style>\n",
       "<table border=\"1\" class=\"dataframe\">\n",
       "  <thead>\n",
       "    <tr style=\"text-align: right;\">\n",
       "      <th></th>\n",
       "      <th>site</th>\n",
       "      <th>headline</th>\n",
       "      <th>storyURL</th>\n",
       "      <th>scrapedate</th>\n",
       "      <th>cat</th>\n",
       "    </tr>\n",
       "    <tr>\n",
       "      <th>Clean_ScrapeDate</th>\n",
       "      <th></th>\n",
       "      <th></th>\n",
       "      <th></th>\n",
       "      <th></th>\n",
       "      <th></th>\n",
       "    </tr>\n",
       "  </thead>\n",
       "  <tbody>\n",
       "    <tr>\n",
       "      <th>2020-09-14 19:19:00</th>\n",
       "      <td>3</td>\n",
       "      <td>124</td>\n",
       "      <td>119</td>\n",
       "      <td>1</td>\n",
       "      <td>2</td>\n",
       "    </tr>\n",
       "    <tr>\n",
       "      <th>2020-09-15 07:48:00</th>\n",
       "      <td>3</td>\n",
       "      <td>135</td>\n",
       "      <td>128</td>\n",
       "      <td>1</td>\n",
       "      <td>2</td>\n",
       "    </tr>\n",
       "    <tr>\n",
       "      <th>2020-09-15 10:18:17</th>\n",
       "      <td>6</td>\n",
       "      <td>181</td>\n",
       "      <td>178</td>\n",
       "      <td>1</td>\n",
       "      <td>3</td>\n",
       "    </tr>\n",
       "    <tr>\n",
       "      <th>2020-09-15 12:33:31</th>\n",
       "      <td>6</td>\n",
       "      <td>179</td>\n",
       "      <td>176</td>\n",
       "      <td>1</td>\n",
       "      <td>3</td>\n",
       "    </tr>\n",
       "    <tr>\n",
       "      <th>2020-09-15 18:01:57</th>\n",
       "      <td>6</td>\n",
       "      <td>176</td>\n",
       "      <td>173</td>\n",
       "      <td>1</td>\n",
       "      <td>3</td>\n",
       "    </tr>\n",
       "    <tr>\n",
       "      <th>2020-09-16 10:58:13</th>\n",
       "      <td>6</td>\n",
       "      <td>180</td>\n",
       "      <td>179</td>\n",
       "      <td>1</td>\n",
       "      <td>3</td>\n",
       "    </tr>\n",
       "    <tr>\n",
       "      <th>2020-09-16 19:13:38</th>\n",
       "      <td>6</td>\n",
       "      <td>180</td>\n",
       "      <td>180</td>\n",
       "      <td>1</td>\n",
       "      <td>3</td>\n",
       "    </tr>\n",
       "    <tr>\n",
       "      <th>2020-09-17 08:16:30</th>\n",
       "      <td>6</td>\n",
       "      <td>183</td>\n",
       "      <td>178</td>\n",
       "      <td>1</td>\n",
       "      <td>3</td>\n",
       "    </tr>\n",
       "  </tbody>\n",
       "</table>\n",
       "</div>"
      ],
      "text/plain": [
       "                     site  headline  storyURL  scrapedate  cat\n",
       "Clean_ScrapeDate                                              \n",
       "2020-09-14 19:19:00     3       124       119           1    2\n",
       "2020-09-15 07:48:00     3       135       128           1    2\n",
       "2020-09-15 10:18:17     6       181       178           1    3\n",
       "2020-09-15 12:33:31     6       179       176           1    3\n",
       "2020-09-15 18:01:57     6       176       173           1    3\n",
       "2020-09-16 10:58:13     6       180       179           1    3\n",
       "2020-09-16 19:13:38     6       180       180           1    3\n",
       "2020-09-17 08:16:30     6       183       178           1    3"
      ]
     },
     "execution_count": 69,
     "metadata": {},
     "output_type": "execute_result"
    }
   ],
   "source": [
    "# Standardize the date format to YYYY-mm-DD H:M:S\n",
    "#df.scrapedate\n",
    "df['Clean_ScrapeDate']=df.scrapedate.map(lambda x: pd.to_datetime(str(x)).strftime(\"%Y-%m-%d %H:%M:%S\"))\n",
    "df.head()\n",
    "\n",
    "dfcountsq2b = df.groupby('Clean_ScrapeDate').nunique()\n",
    "dfcountsq2b"
   ]
  },
  {
   "cell_type": "markdown",
   "metadata": {},
   "source": [
    "This looks much better. The dates are in the same format, and are now sorted ascending."
   ]
  },
  {
   "cell_type": "markdown",
   "metadata": {},
   "source": [
    "##### Answer 2:\n",
    "\n",
    "**9/14/2020 7:19 pm**: 124 unique headlines\n",
    "\n",
    "**9/15/2020 7:48 am**: 135 unique headlines\n",
    "\n",
    "**9/15/2020 10:18 am**: 181 unique headlines\n",
    "\n",
    "**9/15/2020 12:33 pm**: 179 unique headlines\n",
    "\n",
    "**9/15/2020 6:01 pm**: 176 unique headlines\n",
    "\n",
    "**9/16/2020 10:58 am**: 180 unique headlines\n",
    "\n",
    "**9/16/2020 7:13 pm**: 180 unique headlines\n",
    "\n",
    "**9/17/2020 8:16 am**: 183 unique headlines"
   ]
  },
  {
   "cell_type": "markdown",
   "metadata": {},
   "source": [
    "#### Question 3: Number of Unique Headlines by Category"
   ]
  },
  {
   "cell_type": "code",
   "execution_count": 70,
   "metadata": {},
   "outputs": [
    {
     "data": {
      "text/html": [
       "<div>\n",
       "<style scoped>\n",
       "    .dataframe tbody tr th:only-of-type {\n",
       "        vertical-align: middle;\n",
       "    }\n",
       "\n",
       "    .dataframe tbody tr th {\n",
       "        vertical-align: top;\n",
       "    }\n",
       "\n",
       "    .dataframe thead th {\n",
       "        text-align: right;\n",
       "    }\n",
       "</style>\n",
       "<table border=\"1\" class=\"dataframe\">\n",
       "  <thead>\n",
       "    <tr style=\"text-align: right;\">\n",
       "      <th></th>\n",
       "      <th>site</th>\n",
       "      <th>headline</th>\n",
       "      <th>storyURL</th>\n",
       "      <th>scrapedate</th>\n",
       "      <th>Clean_ScrapeDate</th>\n",
       "    </tr>\n",
       "    <tr>\n",
       "      <th>cat</th>\n",
       "      <th></th>\n",
       "      <th></th>\n",
       "      <th></th>\n",
       "      <th></th>\n",
       "      <th></th>\n",
       "    </tr>\n",
       "  </thead>\n",
       "  <tbody>\n",
       "    <tr>\n",
       "      <th>center</th>\n",
       "      <td>2</td>\n",
       "      <td>134</td>\n",
       "      <td>124</td>\n",
       "      <td>8</td>\n",
       "      <td>8</td>\n",
       "    </tr>\n",
       "    <tr>\n",
       "      <th>lightred</th>\n",
       "      <td>2</td>\n",
       "      <td>195</td>\n",
       "      <td>188</td>\n",
       "      <td>6</td>\n",
       "      <td>6</td>\n",
       "    </tr>\n",
       "    <tr>\n",
       "      <th>lightblue</th>\n",
       "      <td>2</td>\n",
       "      <td>339</td>\n",
       "      <td>338</td>\n",
       "      <td>8</td>\n",
       "      <td>8</td>\n",
       "    </tr>\n",
       "  </tbody>\n",
       "</table>\n",
       "</div>"
      ],
      "text/plain": [
       "           site  headline  storyURL  scrapedate  Clean_ScrapeDate\n",
       "cat                                                              \n",
       "center        2       134       124           8                 8\n",
       "lightred      2       195       188           6                 6\n",
       "lightblue     2       339       338           8                 8"
      ]
     },
     "execution_count": 70,
     "metadata": {},
     "output_type": "execute_result"
    }
   ],
   "source": [
    "# Determine number of unique values by date\n",
    "# groupby cat and return number of uniques with nunique()\n",
    "# return this result sorted Ascending by the headline count\n",
    "dfcountsq3 = df.groupby('cat').nunique()\n",
    "dfcountsq3.sort_values(by=['headline'], inplace=True, ascending=True)\n",
    "dfcountsq3"
   ]
  },
  {
   "cell_type": "markdown",
   "metadata": {},
   "source": [
    "##### Answer 3:\n",
    "\n",
    "**center**: 134 unique headlines\n",
    "\n",
    "**lightred**: 195 unique headlines\n",
    "\n",
    "**lightblue**: 339 unique headlines\n",
    "    "
   ]
  },
  {
   "cell_type": "markdown",
   "metadata": {},
   "source": [
    "#### Question 4: Determine if the headlines require any filtering before we do additional text analysis\n",
    "Remove Non-alphanumberic characters from headlines. I am willing to loose apostrophes, quotes, emdashes, etc because many will be present in stop words, and I am not performing sentiment analysis which would require the nuance of those non-alphanumeric characters."
   ]
  },
  {
   "cell_type": "code",
   "execution_count": 71,
   "metadata": {},
   "outputs": [
    {
     "data": {
      "text/html": [
       "<div>\n",
       "<style scoped>\n",
       "    .dataframe tbody tr th:only-of-type {\n",
       "        vertical-align: middle;\n",
       "    }\n",
       "\n",
       "    .dataframe tbody tr th {\n",
       "        vertical-align: top;\n",
       "    }\n",
       "\n",
       "    .dataframe thead th {\n",
       "        text-align: right;\n",
       "    }\n",
       "</style>\n",
       "<table border=\"1\" class=\"dataframe\">\n",
       "  <thead>\n",
       "    <tr style=\"text-align: right;\">\n",
       "      <th></th>\n",
       "      <th>site</th>\n",
       "      <th>headline</th>\n",
       "      <th>storyURL</th>\n",
       "      <th>scrapedate</th>\n",
       "      <th>cat</th>\n",
       "      <th>Clean_ScrapeDate</th>\n",
       "    </tr>\n",
       "    <tr>\n",
       "      <th>IsAlphaNum_headline</th>\n",
       "      <th></th>\n",
       "      <th></th>\n",
       "      <th></th>\n",
       "      <th></th>\n",
       "      <th></th>\n",
       "      <th></th>\n",
       "    </tr>\n",
       "  </thead>\n",
       "  <tbody>\n",
       "    <tr>\n",
       "      <th>False</th>\n",
       "      <td>6</td>\n",
       "      <td>668</td>\n",
       "      <td>650</td>\n",
       "      <td>8</td>\n",
       "      <td>3</td>\n",
       "      <td>8</td>\n",
       "    </tr>\n",
       "  </tbody>\n",
       "</table>\n",
       "</div>"
      ],
      "text/plain": [
       "                     site  headline  storyURL  scrapedate  cat  \\\n",
       "IsAlphaNum_headline                                              \n",
       "False                   6       668       650           8    3   \n",
       "\n",
       "                     Clean_ScrapeDate  \n",
       "IsAlphaNum_headline                    \n",
       "False                               8  "
      ]
     },
     "execution_count": 71,
     "metadata": {},
     "output_type": "execute_result"
    }
   ],
   "source": [
    "# to determine if there are non alpha numeric headlines, \n",
    "# create a new column and map a True / False using isalnum()\n",
    "# to the new column, then I can get a count of number with non alpha numeric characters\n",
    "df['IsAlphaNum_headline'] = list(map(lambda x: x.isalnum(), df['headline']))\n",
    "\n",
    "dfcountsq4a = df.groupby('IsAlphaNum_headline').nunique()\n",
    "dfcountsq4a"
   ]
  },
  {
   "cell_type": "markdown",
   "metadata": {},
   "source": [
    "This is **unexpected** at first, but I realize that spaces in the text are cause False, and I do not want to filter spaces from the results.\n",
    "\n",
    "I will not take the following steps:\n",
    "1. Create a left and right trimmed headline column\n",
    "2. filter the lists to remove non alpha numeric characters\n",
    "3. run the cleaned headlines through a filter to remove \"stop words\""
   ]
  },
  {
   "cell_type": "code",
   "execution_count": 72,
   "metadata": {},
   "outputs": [],
   "source": [
    "df['Trimmed_Headline']=df.headline.map(lambda x: x.strip())\n",
    "\n",
    "def replaceBadCharacters(inputHeadline):\n",
    "    # initializing repl_chr \n",
    "    replaceWith = ''\n",
    "    \n",
    "    # initializing retain chararter \n",
    "    charsToFind = [\"'\",'\"',':','\\\\','[',']','(',')',',','.']\n",
    "    \n",
    "    outputHeadline = inputHeadline.translate({ord(i): None for i in charsToFind})\n",
    "  \n",
    "    return outputHeadline\n",
    "\n",
    "  \n",
    "# using map() to extend logic to each element of list \n",
    "df['Cleaned_Trimmed_Headline'] = df.Trimmed_Headline.map(replaceBadCharacters) "
   ]
  },
  {
   "cell_type": "code",
   "execution_count": 73,
   "metadata": {},
   "outputs": [
    {
     "data": {
      "text/plain": [
       "1611    Taghi Amirani How the US-Backed 1953 Coup in I...\n",
       "1612                   Homeschooling Hits a Tipping Point\n",
       "1613    US Withdraws Foolish Threat of New Tariffs on ...\n",
       "1614    New FCC Nominee Has Already Been Helping Trump...\n",
       "1615                     Brickbat Stop Cutting the Cheese\n",
       "Name: Cleaned_Trimmed_Headline, dtype: object"
      ]
     },
     "execution_count": 73,
     "metadata": {},
     "output_type": "execute_result"
    }
   ],
   "source": [
    "df['Cleaned_Trimmed_Headline'].tail()"
   ]
  },
  {
   "cell_type": "markdown",
   "metadata": {},
   "source": [
    "This looks okay. I think I can run these through a stop words filter. "
   ]
  },
  {
   "cell_type": "code",
   "execution_count": 76,
   "metadata": {},
   "outputs": [
    {
     "data": {
      "text/plain": [
       "['i',\n",
       " 'me',\n",
       " 'my',\n",
       " 'myself',\n",
       " 'we',\n",
       " 'our',\n",
       " 'ours',\n",
       " 'ourselves',\n",
       " 'you',\n",
       " \"you're\",\n",
       " \"you've\",\n",
       " \"you'll\",\n",
       " \"you'd\",\n",
       " 'your',\n",
       " 'yours',\n",
       " 'yourself',\n",
       " 'yourselves',\n",
       " 'he',\n",
       " 'him',\n",
       " 'his',\n",
       " 'himself',\n",
       " 'she',\n",
       " \"she's\",\n",
       " 'her',\n",
       " 'hers',\n",
       " 'herself',\n",
       " 'it',\n",
       " \"it's\",\n",
       " 'its',\n",
       " 'itself',\n",
       " 'they',\n",
       " 'them',\n",
       " 'their',\n",
       " 'theirs',\n",
       " 'themselves',\n",
       " 'what',\n",
       " 'which',\n",
       " 'who',\n",
       " 'whom',\n",
       " 'this',\n",
       " 'that',\n",
       " \"that'll\",\n",
       " 'these',\n",
       " 'those',\n",
       " 'am',\n",
       " 'is',\n",
       " 'are',\n",
       " 'was',\n",
       " 'were',\n",
       " 'be',\n",
       " 'been',\n",
       " 'being',\n",
       " 'have',\n",
       " 'has',\n",
       " 'had',\n",
       " 'having',\n",
       " 'do',\n",
       " 'does',\n",
       " 'did',\n",
       " 'doing',\n",
       " 'a',\n",
       " 'an',\n",
       " 'the',\n",
       " 'and',\n",
       " 'but',\n",
       " 'if',\n",
       " 'or',\n",
       " 'because',\n",
       " 'as',\n",
       " 'until',\n",
       " 'while',\n",
       " 'of',\n",
       " 'at',\n",
       " 'by',\n",
       " 'for',\n",
       " 'with',\n",
       " 'about',\n",
       " 'against',\n",
       " 'between',\n",
       " 'into',\n",
       " 'through',\n",
       " 'during',\n",
       " 'before',\n",
       " 'after',\n",
       " 'above',\n",
       " 'below',\n",
       " 'to',\n",
       " 'from',\n",
       " 'up',\n",
       " 'down',\n",
       " 'in',\n",
       " 'out',\n",
       " 'on',\n",
       " 'off',\n",
       " 'over',\n",
       " 'under',\n",
       " 'again',\n",
       " 'further',\n",
       " 'then',\n",
       " 'once',\n",
       " 'here',\n",
       " 'there',\n",
       " 'when',\n",
       " 'where',\n",
       " 'why',\n",
       " 'how',\n",
       " 'all',\n",
       " 'any',\n",
       " 'both',\n",
       " 'each',\n",
       " 'few',\n",
       " 'more',\n",
       " 'most',\n",
       " 'other',\n",
       " 'some',\n",
       " 'such',\n",
       " 'no',\n",
       " 'nor',\n",
       " 'not',\n",
       " 'only',\n",
       " 'own',\n",
       " 'same',\n",
       " 'so',\n",
       " 'than',\n",
       " 'too',\n",
       " 'very',\n",
       " 's',\n",
       " 't',\n",
       " 'can',\n",
       " 'will',\n",
       " 'just',\n",
       " 'don',\n",
       " \"don't\",\n",
       " 'should',\n",
       " \"should've\",\n",
       " 'now',\n",
       " 'd',\n",
       " 'll',\n",
       " 'm',\n",
       " 'o',\n",
       " 're',\n",
       " 've',\n",
       " 'y',\n",
       " 'ain',\n",
       " 'aren',\n",
       " \"aren't\",\n",
       " 'couldn',\n",
       " \"couldn't\",\n",
       " 'didn',\n",
       " \"didn't\",\n",
       " 'doesn',\n",
       " \"doesn't\",\n",
       " 'hadn',\n",
       " \"hadn't\",\n",
       " 'hasn',\n",
       " \"hasn't\",\n",
       " 'haven',\n",
       " \"haven't\",\n",
       " 'isn',\n",
       " \"isn't\",\n",
       " 'ma',\n",
       " 'mightn',\n",
       " \"mightn't\",\n",
       " 'mustn',\n",
       " \"mustn't\",\n",
       " 'needn',\n",
       " \"needn't\",\n",
       " 'shan',\n",
       " \"shan't\",\n",
       " 'shouldn',\n",
       " \"shouldn't\",\n",
       " 'wasn',\n",
       " \"wasn't\",\n",
       " 'weren',\n",
       " \"weren't\",\n",
       " 'won',\n",
       " \"won't\",\n",
       " 'wouldn',\n",
       " \"wouldn't\"]"
      ]
     },
     "execution_count": 76,
     "metadata": {},
     "output_type": "execute_result"
    }
   ],
   "source": [
    "# what are the default stopwords?\n",
    "stopwords.words('english')"
   ]
  },
  {
   "cell_type": "markdown",
   "metadata": {},
   "source": [
    "These are all in lowercase, I will need to convert Cleaned_Trimmed_Headline to lowercase to make stop word filtering work the way I intend."
   ]
  },
  {
   "cell_type": "code",
   "execution_count": 80,
   "metadata": {},
   "outputs": [
    {
     "data": {
      "text/plain": [
       "0    biden legal team preps for november voting fight\n",
       "1       wildfires intensify economic pain in the west\n",
       "2       victims names released in attack near rutgers\n",
       "3         3 dead 3 wounded in violent rampage in tenn\n",
       "4    feds probing in-custody death of black man in la\n",
       "Name: Cleaned_Trimmed_Headline, dtype: object"
      ]
     },
     "execution_count": 80,
     "metadata": {},
     "output_type": "execute_result"
    }
   ],
   "source": [
    "# apply lower map to Cleaned_Trimmed_Headline column\n",
    "df['Cleaned_Trimmed_Headline'] = df.Cleaned_Trimmed_Headline.map(str.lower) \n",
    "df['Cleaned_Trimmed_Headline'].head()"
   ]
  },
  {
   "cell_type": "code",
   "execution_count": 90,
   "metadata": {},
   "outputs": [
    {
     "data": {
      "text/plain": [
       "0    [biden, legal, team, preps, for, november, vot...\n",
       "1    [wildfires, intensify, economic, pain, in, the...\n",
       "2    [victims, names, released, in, attack, near, r...\n",
       "3    [3, dead, 3, wounded, in, violent, rampage, in...\n",
       "4    [feds, probing, in-custody, death, of, black, ...\n",
       "Name: Split_Headline, dtype: object"
      ]
     },
     "execution_count": 90,
     "metadata": {},
     "output_type": "execute_result"
    }
   ],
   "source": [
    "# Use the nltk library to split the sentences by words and filter out stop words\n",
    "\n",
    "# set variable stopWords to the default English stopwords\n",
    "stopWords = set(stopwords.words('english'))\n",
    "\n",
    "def removeIfStopWord(listOWords):\n",
    "    returnedWords = []\n",
    "    \n",
    "    for word in listOWords:\n",
    "        if word not in stopWords:\n",
    "            returnedWords.append(word)\n",
    "    \n",
    "    return returnedWords\n",
    "\n",
    "# Create a new column in our dataframe for the split version of the sentence\n",
    "# the splitting is done with the nltk library function word_tokenize()\n",
    "df['Split_Headline'] = df.Cleaned_Trimmed_Headline.map(word_tokenize) \n",
    "df['Split_Headline'].head()\n",
    "\n",
    "\n",
    "\n"
   ]
  },
  {
   "cell_type": "code",
   "execution_count": 92,
   "metadata": {},
   "outputs": [
    {
     "data": {
      "text/plain": [
       "0    [biden, legal, team, preps, november, voting, ...\n",
       "1         [wildfires, intensify, economic, pain, west]\n",
       "2    [victims, names, released, attack, near, rutgers]\n",
       "3        [3, dead, 3, wounded, violent, rampage, tenn]\n",
       "4    [feds, probing, in-custody, death, black, man,...\n",
       "Name: Split_Headline_Real, dtype: object"
      ]
     },
     "execution_count": 92,
     "metadata": {},
     "output_type": "execute_result"
    }
   ],
   "source": [
    "# Create New Column of \"Real\" words in the Split Headline using the removeIfStopWord function\n",
    "\n",
    "df['Split_Headline_Real'] = df.Split_Headline.map(removeIfStopWord)\n",
    "df['Split_Headline_Real'].head()"
   ]
  },
  {
   "cell_type": "markdown",
   "metadata": {},
   "source": [
    "The stop words have been removed.\n",
    "\n",
    "##### Answer 4a:\n",
    "I now have a dataframe column called Split_Headline_Real that is cleaned for alpha numeric, and has had stop words removed."
   ]
  },
  {
   "cell_type": "code",
   "execution_count": 104,
   "metadata": {},
   "outputs": [
    {
     "data": {
      "text/plain": [
       "0    biden legal team preps november voting fight\n",
       "1          wildfires intensify economic pain west\n",
       "2      victims names released attack near rutgers\n",
       "3           3 dead 3 wounded violent rampage tenn\n",
       "4      feds probing in-custody death black man la\n",
       "Name: Join_Headline_Real, dtype: object"
      ]
     },
     "execution_count": 104,
     "metadata": {},
     "output_type": "execute_result"
    }
   ],
   "source": [
    "# get a single string of all the headline words\n",
    "# create a column of the headline words joined\n",
    "df['Join_Headline_Real'] = df.Split_Headline_Real.map(' '.join)\n",
    "df['Join_Headline_Real'].head()"
   ]
  },
  {
   "cell_type": "markdown",
   "metadata": {},
   "source": [
    "#### Question 5: Perform frequency analysis"
   ]
  },
  {
   "cell_type": "code",
   "execution_count": 111,
   "metadata": {},
   "outputs": [
    {
     "data": {
      "text/plain": [
       "'biden legal team preps november voting fight wildfires intensify economic pain west victims names released attack near rutgers 3 dead 3 wounded violent rampage tenn feds probing in-custody death black man la possible hints life venuss clouds electoral college vs popular vote america south dakota ag involved fatal car accident tear gas used crowd protesting police shooting weekend gun violence chicago leaves 10 dead jailed 37 years man cleared murder rape clerk quits long vote count delays mass woodward addresses criticism shouldve detailed trump interviews earlier possible sign life right next door earth venus hurricane sally predicted bring 110-mph winds gulf coast tuesday wildfires make dangerous air farmworkers like cant breathe protests erupt lancaster pa following officer-involved shooting death least 35 dead wildfires rampage along west coast bit surreal oregons air quality suffers fires complicate covid-19 fight coronavirus affected individual members congress least 25 indian lawmakers test positive coronavirus parliament reopens take action states mexico move ban junk food sales minors coronavirus world map tracking spread outbreak coronavirus maps severe states outbreak ? florida schools pressure get rid police officers oracles deal tiktok may include purchase auto industry roars back worker shortages throw roadblocks army marshals resources aid race coronavirus vaccine redesigning office next 100-year flu yes coming map mail-in voting rules state n cbsnn n 50 days election dayn n college covid outbreaks parties continuen n georgia deputy fired beating black mann n cbsn originals feminismn n hurricane sally category 2 takes aim gulf coastn n 35 dead wildfires rage across west coastn n rochester mayor ousts police chief daniel prudes deathn n astronomers find possible signs life venusn n kaepernick says nfls social justice gestures propagandan n 2020 campaign also waged courtsn n price inequality ? lost annual income $ 42000n n biden climate change means arent safe donald trumps american n dems launch probe political interference cdc reportsn n trump alma mater says biden plan better economic growthn n black doulas fighting maternal mortalityn n texas officer charged assault 2019 fatal shootingn n fia investigating lewis hamilton breonna taylor shirtn n us airlines report second-quarter losses $ 11 billionn n rising american electorate turn ? n n south dakota ag reported hitting deer actually killed mann n pau gasol wife name baby kobe bryants daughter giannan n black students turn social media expose racism schooln n reports new daily record covid-19 casesn n trumps strategy create panic jeh johnson saysn n dr ashish jha rounded corner virus vaccinen n rare dolphins return hong kong watersn n israelis angered virus lockdown punishing usn n photo kid working home total moodn n nfl reminds teams follow sideline rules face coveringsn n trial oxfords promising covid vaccine resumes brief pausen n icymi top takeaways weeks face nationn n speaking frankly | feminismn n speaking frankly | censorshipn n speaking frankly | fat shamingn n speaking frankly | cancel culturen n coronavirus navajo nationn n audra mcdonald theater activism equalityn n minorities lacking covid-19 trialsn n using hoops build bridges hopen n chef david chang revealing new memoirn n honoring roots whiskey industryn n wisconsin lt governor blake shootingn n hazardous air quality threatens farmworkers major wildfiresn n art protestn n man suffocated rochester police custodyn n rising american electorate turn ? n n battleground tracker biden gains edge arizona leads big minnesotan n trump holds indoor campaign rally near las vegasn n new biden ads target black menn n trump claims rally dems trying rig electionn n trump admin pushes conclude census countn n trump defends covid-19 responsen n trump dismisses question white privilegen n campaigns ramp efforts swing statesn n americans seeking unemploymentn n arizona teen become one first female eagle scoutsn n father son fighting hunger dallasn n woman spreads kindness houston airportn n driveway racetrack brings man young boy togethern n firefighter rescues woman trapped burning high-risen n rare dolphins return hong kong watersn n israelis angered virus lockdown punishing usn n putin offers money tells belarus leader settle unrest himselfn n trial oxfords promising covid vaccine resumes brief pausen n reports new daily record covid-19 casesn n 35 dead wildfires rage across west coastn n hurricane sally category 2 takes aim gulf coastn n us airlines report second-quarter losses $ 11 billionn n rochester mayor ousts police chief daniel prudes deathn n texas officer charged assault 2019 fatal shootingn n us halts imports chinas uighur regionn n house dems launch probe political interference cdc reportsn n trump blames poor forest management west coast wildfiresn n trumps campaign strategy create panic jeh johnson saysn n biden climate change means arent safe donald trumps american n fia investigating lewis hamilton breonna taylor shirtn n jo malone apologizes star wars actor john boyega adn n nfl reminds teams follow sideline rules face coveringsn n fresh prince bel-air house listed airbnbn n drew barrymore new daytime talk shown n tiktok owner picks oracle microsoft us tech partnern n microsoft says bid buy tiktok rejectedn n twitter delete label misleading election result postsn n russia china iran ramping attacks ahead election microsoft warnsn n microsoft set launch new xbox series x \\x97 heres whenn n hurricane sally category 2 takes aim gulf coastn n slow-moving hurricane sally becomes category 2 hurricanen n rare dolphins return hong kong watersn n astronomers find possible sign life venusn n strong winds could fuel wildfires west death toll climbsn n house dems launch probe political interference cdc reportsn n dr ashish jha rounded corner virus vaccinen n nfl reminds teams follow sideline rules face coveringsn n israelis angered virus lockdown punishing usn n trial oxfords promising covid vaccine resumes brief pausen n us airlines report second-quarter losses $ 11 billionn n us halts imports chinas uighur regionn n mercedes-benz pay $ 15 billion emissions cheatingn n trump alma mater says biden plan better economic growthn n amazon hiring 100000 full- part-time openingsn n rochester mayor ousts police chief daniel prudes deathn n texas officer charged assault 2019 fatal shootingn n deputy fired punching black man repeatedly arrestn n reward offered suspect shot 2 la sheriffs deputiesn n 2 california deputies shot apparent ambush patrol carn n astronomers find possible sign life venusn n golden age astrophotography backyardn n new hubble image features thousands multi-colored starsn n mighty mice stay bulked space untreated micen n new high-res images sun reveal terrifying structuren n astrophotography stunning images idahos night skyn n celebrities support joe biden presidentn n celebrities support donald trump presidentn n timeline shanti cooper murder casen n black people killed police us 2020 - part iin n black students make voices heardn n tracking rising american electoraten n donald trumps conversations bob woodwardn n cbsn originals feminismn n cbsn originals censorshipn tips help evacuate hurricane sally wildfires intensify economic pain west victims names released attack near rutgers german jeweler shoots dead 2 suspected robbers feds probing in-custody death black man la cheer star denies soliciting sex minors navalny posts photo online says breathe duputies guard colleagues ambushed fire erupts building near beiruts port un boat capsizes near libya ; 24 presumed dead possible hints life venuss clouds electoral college vs popular vote america dont think science knows visiting fires trump denies climate change biden outspending trump tv 6 states focus campaign cant vote daca recipient working register others theaters still closed 136-year-old playbill quick online pivot ike monument unlike eisenhower memorial dedicated dc growing demand wilderness education may widen learning inequality urban hospitals face closure cutbacks pandemic adds fiscal woes 6 ways get ready wildfire court rules government end humanitarian protections 300000 immigrants amid democratic street uprising belarusian strongman gets support russia wildfires make dangerous air farmworkers like cant breathe protests erupt lancaster pa following officer-involved shooting death least 35 dead wildfires rampage along west coast bit surreal oregons air quality suffers fires complicate covid-19 fight coronavirus affected individual members congress least 25 indian lawmakers test positive coronavirus parliament reopens possible sign life right next door earth venus take action states mexico move ban junk food sales minors hurricane sally predicted bring 110-mph winds gulf coast tuesday n cbsnn n hurricane sally make landfall ? n n west reels deadly wildfiresn n cdc finds kids without symptoms transmit covid-19n n red & blue countdown voten n historic flooding possible hurricane sally hits gulf coastn n least 35 dead wildfires rage across west coastn n sheriff issues challenge lebron james deputies ambushedn n trump says dont think science knows climaten n rochester mayor ousts police chief wake daniel prudes deathn n court oks end humanitarian protections 300000 immigrantsn n venezuela says ex-us marine spy arrested alleged terror plotn n us warns travel china hong kongn n south dakota ag reported hitting deer actually killed mann n northern hemisphere warmest summer ever noaa saysn n explosive charges nurse immigrant detention centern n section largest remaining arctic ice shelf shattersn n taliban want long-awaited intra-afghan talks ? n n hhs spokesman says got death threat facebook broadcastn n mercedes-benz pay $ 15 billion emissions cheatingn n texas officer charged assault 2019 fatal shootingn n trump alma mater says biden plan better economic growthn n puppy pulled rubble california wildfiren n syria may counting 125 % actual coronavirus deathsn n reports new daily record covid-19 casesn n us airlines report second-quarter losses $ 11 billionn n trumps strategy create panic jeh johnson saysn n explosive charges nurse immigrant detention centern n taoist priests memorial tablets honor chinas covid heroes spiritsn n dr ashish jha rounded corner virus vaccinen n nfl reminds teams follow sideline rules face coveringsn n rare dolphins return hong kong watersn n hurricane sally make landfall ? n n search intensifies suspect shot 2 deputiesn n california reels deadly wildfiresn n cdc finds kids without symptoms transmit covid-19n n biden calls trump climate arsonist amid historic wildfiresn n red & blue countdown vote \\x97 full episoden n presidential race stands 50 days outn n biden leads trump arizona minnesotan n tight races texas florida north carolinan n andrew card moments define presidenciesn n donald trumps conversations bob woodwardn n president trump speak bob woodward ? n n trump \\x93threat national security\\x94n n joaquin phoenix 60 minutes interviewn n tijuana river spills raw sewage californian n rising american electorate turn ? n n 2020 daily trail markers green party wont ballot wisconsinn n battleground tracker biden gains edge arizona leads big minnesotan n trump holds indoor campaign rally near las vegasn n new biden ads target black menn n puppy pulled rubble following california wildfiren n arizona teen become one first female eagle scoutsn n father son fighting hunger dallasn n woman spreads kindness houston airportn n driveway racetrack brings man young boy togethern n speaking frankly | feminismn n speaking frankly | censorshipn n speaking frankly | fat shamingn n speaking frankly | cancel culturen n coronavirus navajo nationn n audra mcdonald theater activism equalityn n minorities lacking covid-19 trialsn n using hoops build bridges hopen n chef david chang revealing new memoirn n honoring roots whiskey industryn n wisconsin lt governor blake shootingn n hazardous air quality threatens farmworkers major wildfiresn n art protestn n man suffocated rochester police custodyn n venezuela says ex-us marine spy arrested alleged terror plotn n syria may counting 125 % actual coronavirus deathsn n us warns travel china hong kongn n taliban want long-awaited intra-afghan talks ? n n taoist priests memorial tablets honor chinas covid heroes spiritsn n rochester mayor ousts police chief daniel prudes deathn n 35 dead wildfires rage across west coastn n macys thanksgiving day parade television-onlyn n trump alma mater says biden plan better economic growthn n trump says dont think science knows climaten n trump alma mater says biden plan better economic growthn n biden climate change means arent safe donald trumps american n trump says dont think science knows climaten n hhs spokesman says recieved death threat facebook broadcastn n explosive charges nurse immigrant detention centern n fia investigating lewis hamilton breonna taylor shirtn n jo malone apologizes star wars actor john boyega adn n nfl reminds teams follow sideline rules face coveringsn n fresh prince bel-air house listed airbnbn n drew barrymore new daytime talk shown n tiktok owner picks oracle microsoft us tech partnern n microsoft says bid buy tiktok rejectedn n twitter delete label misleading election result postsn n russia china iran ramping attacks ahead election microsoft warnsn n microsoft set launch new xbox series x \\x97 heres whenn n 35 dead wildfires rage across west coastn n astronomers find possible sign life venusn n northern hemisphere warmest summer ever noaa saysn n hurricane sally category 2 takes aim gulf coastn n hurricane sally category 2 takes aim gulf coastn n syria may counting 125 % actual coronavirus deathsn n house dems launch probe political interference cdc reportsn n dr ashish jha rounded corner virus vaccinen n nfl reminds teams follow sideline rules face coveringsn n israelis angered virus lockdown punishing usn n mercedes-benz pay $ 15 billion emissions cheatingn n us airlines report second-quarter losses $ 11 billionn n us halts imports chinas uighur regionn n amazon hiring 100000 full- part-time openingsn n pfizer ceo says company know vaccine works end octobern n rochester mayor ousts police chief daniel prudes deathn n texas officer charged assault 2019 fatal shootingn n deputy fired punching black man repeatedly arrestn n reward offered suspect shot 2 la sheriffs deputiesn n 2 california deputies shot apparent ambush patrol carn n astronomers find possible sign life venusn n golden age astrophotography backyardn n new hubble image features thousands multi-colored starsn n mighty mice stay bulked space untreated micen n new high-res images sun reveal terrifying structuren n astrophotography stunning images idahos night skyn n celebrities support joe biden presidentn n celebrities support donald trump presidentn n timeline shanti cooper murder casen n black people killed police us 2020 - part iin n red & blue countdown voten n donald trumps conversations bob woodwardn n cbsn originals feminismn n black students make voices heardn n tracking rising american electoraten city pay millions breonna taylors mom hurricane sally bring dangerous storm surge wildfires intensify economic pain west victims names released attack near rutgers german jeweler shoots dead 2 suspected robbers feds probing in-custody death black man la navalny posts photo online says breathe duputies guard colleagues ambushed fire erupts building near beiruts port un boat capsizes near libya ; 24 presumed dead tennessee convict pleads guilty murder case possible hints life venuss clouds hurricane sally bringing history-making rains gulf coast forecasters say dont think science knows visiting fires trump denies climate change biden outspending trump tv 6 states focus campaign coronavirus maps severe states outbreak ? coronavirus world map tracking spread outbreak theaters still closed 136-year-old playbill quick online pivot ike monument unlike eisenhower memorial dedicated dc cant vote daca recipient working register others growing demand wilderness education may widen learning inequality urban hospitals face closure cutbacks pandemic adds fiscal woes 6 ways get ready wildfire court rules government end humanitarian protections 300000 immigrants amid democratic street uprising belarusian strongman gets support russia wildfires make dangerous air farmworkers like cant breathe protests erupt lancaster pa following officer-involved shooting death least 35 dead wildfires rampage along west coast bit surreal oregons air quality suffers fires complicate covid-19 fight coronavirus affected individual members congress least 25 indian lawmakers test positive coronavirus parliament reopens n cbsnn n eye opener gulf coast braces hurricanen n president trump questions climate sciencen n pa braces increase mail-in ballotsn n red & blue countdown voten n hurricane sally could bring historic flooding gulf coastn n cadaver dogs search missing western wildfiresn n sheriff issues challenge lebron james deputies ambushedn n watch live trump hosts israel bahrain uae deal signingsn n south dakota ag revises story fatally hitting man carn n biden makes first trip florida amid questions latino supportn n putin critic looks alert 1st photo since novichok poisoningn n venezuela says ex-us marine spy arrested alleged terror plotn n us warns travel china hong kongn n county battleground state braces influx mail-in ballotsn n rochester mayor ousts police chief daniel prudes deathn n northern hemisphere warmest summer ever noaa saysn n dressing success days means athleisuren n explosive charges nurse immigrant detention centern n hhs spokesman says recieved death threat facebook broadcastn n section largest remaining arctic ice shelf shattersn n taliban want long-awaited intra-afghan talks ? n n court oks end protections 300000 immigrantsn n syria may counting 125 % actual coronavirus deathsn n dublin pubs remain closed amid worrying virus surgen n dressing success days means athleisuren n us airlines report second-quarter losses $ 11 billionn n reports new daily record covid-19 casesn n trumps strategy create panic jeh johnson saysn n explosive charges nurse immigrant detention centern n taoist priests memorial tablets honor chinas covid heroes spiritsn n dr ashish jha rounded corner virus vaccinen n maren morris motherhood mental healthn n woodward shocking trump revelationsn n possible signs life planet venusn n pa braces increase mail-in ballotsn n fema administrator hurricane sallyn n red & blue countdown vote \\x97 full episoden n presidential race stands 50 days outn n biden leads trump arizona minnesotan n tight races texas florida north carolinan n andrew card moments define presidenciesn n donald trumps conversations bob woodwardn n president trump speak bob woodward ? n n trump \\x93threat national security\\x94n n joaquin phoenix 60 minutes interviewn n tijuana river spills raw sewage californian n rising american electorate turn ? n n 2020 daily trail markers green party wont ballot wisconsinn n battleground tracker biden gains edge arizona leads big minnesotan n trump holds indoor campaign rally near las vegasn n new biden ads target black menn n puppy pulled rubble following california wildfiren n arizona teen become one first female eagle scoutsn n father son fighting hunger dallasn n woman spreads kindness houston airportn n driveway racetrack brings man young boy togethern n speaking frankly | feminismn n speaking frankly | censorshipn n speaking frankly | fat shamingn n speaking frankly | cancel culturen n coronavirus navajo nationn n black doulas fighting maternal mortalityn n black students turn social media expose racism schooln n audra mcdonald theater activism equalityn n minorities lacking covid-19 trialsn n using hoops build bridges hopen n chef david chang revealing new memoirn n honoring roots whiskey industryn n wisconsin lt governor blake shootingn n hazardous air quality threatens farmworkers major wildfiresn n dublin pubs remain closed amid worrying virus surgen n watch live trump hosts israel bahrain uae deal signingsn n putin critic navalny looks alert 1st photo since novichok poisoningn n venezuela says ex-us marine spy arrested alleged terror plotn n syria may counting 125 % actual coronavirus deathsn n hurricane sally could bring historic flooding gulf coastn n biden makes first trip florida amid questions latino supportn n dressing success days means athleisuren n watch live trump hosts israel bahrain uae deal signingsn n county battleground state braces influx mail-in ballotsn n biden makes first trip florida amid questions latino supportn n watch live trump hosts israel bahrain uae deal signingsn n trump alma mater says biden plan better economic growthn n biden climate change means arent safe donald trumps american n trump says dont think science knows climaten n maren morris motherhood mental healthn n fia investigating lewis hamilton breonna taylor shirtn n jo malone apologizes star wars actor john boyega adn n nfl reminds teams follow sideline rules face coveringsn n fresh prince bel-air house listed airbnbn n tiktok owner picks oracle microsoft us tech partnern n microsoft says bid buy tiktok rejectedn n twitter delete label misleading election result postsn n russia china iran ramping attacks ahead election microsoft warnsn n microsoft set launch new xbox series x \\x97 heres whenn n 35 dead wildfires rage across west coastn n astronomers find possible sign life venusn n northern hemisphere warmest summer ever noaa saysn n hurricane sally category 2 takes aim gulf coastn n hurricane sally category 2 takes aim gulf coastn n dublin pubs remain closed amid worrying virus surgen n syria may counting 125 % actual coronavirus deathsn n house dems launch probe political interference cdc reportsn n dr ashish jha rounded corner virus vaccinen n nfl reminds teams follow sideline rules face coveringsn n dressing success days means athleisuren n mercedes-benz pay $ 15 billion emissions cheatingn n us airlines report second-quarter losses $ 11 billionn n us halts imports chinas uighur regionn n amazon hiring 100000 full- part-time openingsn n rochester mayor ousts police chief daniel prudes deathn n texas officer charged assault 2019 fatal shootingn n deputy fired punching black man repeatedly arrestn n reward offered suspect shot 2 la sheriffs deputiesn n 2 california deputies shot apparent ambush patrol carn n astronomers find possible sign life venusn n golden age astrophotography backyardn n new hubble image features thousands multi-colored starsn n mighty mice stay bulked space untreated micen n new high-res images sun reveal terrifying structuren n astrophotography stunning images idahos night skyn n celebrities support joe biden presidentn n celebrities support donald trump presidentn n timeline shanti cooper murder casen n black people killed police us 2020 - part iin n red & blue countdown voten n donald trumps conversations bob woodwardn n cbsn originals feminismn n black students make voices heardn n tracking rising american electoraten city pay millions breonna taylor\\x92s mom reform police trump spurns science climate \\x91don\\x92t think science knows\\x92 trump preside historic arab-israel recognition deals different types coronavirus tests ? emmy predictions predicting future folly hurricane sally slows gathering deluge gulf coast \\x91work like devil\\x92 biden visiting florida woo latinos asia today india adds 83000 cases nears 5 million navalny posts hospital photo ; plans russia return city pay millions breonna taylor\\x92s mom reform police trump spurns science climate \\x91don\\x92t think science knows\\x92 trump preside historic arab-israel recognition deals different types coronavirus tests ? emmy predictions predicting future folly hurricane sally slows gathering deluge gulf coast \\x91work like devil\\x92 biden visiting florida woo latinos asia today india adds 83000 cases nears 5 million navalny posts hospital photo ; plans russia return trump preside signing historic middle east deals white house president vows response 1000 times greater magnitude report iranian assassination plot hurricane sally may bring historic flooding gulf coast storm crawls toward landfall coast guard issues warning sailboat gets caught sally storm surge florida ntrump says covid vaccine weeks away dems express concerns safety ingraham praises federal judges phenomenal ruling finding states covid shutdown unconstitutional dem explains would hesitant take coronavirus vaccine stocks rally optimism builds around coronavirus vaccine jon stewart back washington take fight trump campaign ad used stock photo russian fighter jets report mighty ducks child star turned tech bitcoin billionaire running president wildfire smoke west coast drifts midwest reaches nyc new england oregon drivers stopped gunpoint groups protecting wildfire ravaged properties looters sheriff veteran journalist lara logan investigates rise antifa socialist resistance amid unrest george floyds death personal information 46000 veterans compromised data breach va reveals nanti-trump protesters surround patrol car calif man jumps police vehicle pakistani pm suggests surgical castration rapists woman gang raped highway poisoned russian opposition leader speaks emerging coma jeweler 70s reportedly kills 2 suspected robbers georgia man gets prison masters golf ticket scheme supermodel slammed debut dancing stars host kanye west says wont release new music happens kid rock joins donald trump jr rally detroit encourages people get friends family vote social security benefits 2021 much check likely increase next year shocking number americans lost job pandemic cant last month savings airport worlds first earn 5-star covid-19 safety rating stranded cruise workers brazil finally going home ; 300000 others await repatriation driver survives pole impales car crash toy store employee adds wap shops playlist didnt realize late taco bell debuting jalapeno noir wine miller lite creates cantenna football lovers without cable court oks deportation hundreds thousands immigrants another says homeland securitys head might legal authority brickbat morning school donald trump bob woodward noble lie la sheriffs deputies assault reporter attempt mislead public brickbat use cobra snake necktie nfl back national anthem controversy two anthems trump face uncommitted voters abc town hall biden heads florida hoping court latinos house gop unveils police funds tax cuts agenda police 3 brothers accused raping girl hurricane sally bring dangerous storm surge vermont city working supervised injection site wis election clerks rush mail ballots delay teen charged shooting death sleeping woman fleeing suspect abandons winning lottery ticket st louis matches homicide total 2019 pandemic brings toilet paper mexico us navalny posts photo online says breathe grand jury issued criminal subpoenas connection john bolton book inspector general slams fema repeatedly flooded homes hurricane sally bringing history-making rains gulf coast forecasters say daniel prude death rochester ny mayor fires police chief seeks federal inquiries coronavirus maps severe states outbreak ? coronavirus world map tracking spread outbreak theaters still closed 136-year-old playbill quick online pivot ike monument unlike eisenhower memorial dedicated dc cant vote daca recipient working register others growing demand wilderness education may widen learning inequality urban hospitals face closure cutbacks pandemic adds fiscal woes biden outspending trump tv 6 states focus campaign 6 ways get ready wildfire court rules government end humanitarian protections 300000 immigrants amid democratic street uprising belarusian strongman gets support russia wildfires make dangerous air farmworkers like cant breathe protests erupt lancaster pa following officer-involved shooting death dont think science knows visiting fires trump denies climate change n cbsnn n hurricane sally approaches gulf coastn n president trump questions climate sciencen n pa braces increase mail-in ballotsn n ondevan campervan back roadn n hurricane sally could bring historic flooding gulf coastn n louisville reaches major settlement breonna taylors familyn n cadaver dogs search missing western wildfiresn n sheriff issues challenge lebron james deputies ambushedn n watch live trump hosts israel bahrain uae deal signingsn n south dakota ag revises story fatally hitting man carn n biden makes first trip florida amid questions latino supportn n putin critic looks alert 1st photo since novichok poisoningn n billionaire steve cohen clinches deal buy new york metsn n pelosi wants house stay session covid deal reachedn n audio captures sailors shouting ship capsized georgian n county battleground state braces influx mail-in ballotsn n family carole baskins missing husband runs ad dwtsn n dressing success days means athleisuren n lego use paper bags boxed setsn n hhs spokesman says recieved death threat facebook broadcastn n taliban want long-awaited intra-afghan talks ? n n court oks end protections 300000 immigrantsn n grieving parents share warning colleges mull football seasonn n syria may counting 125 % actual coronavirus deathsn n dublin pubs remain closed amid worrying virus surgen n pelosi wants house stay session covid deal reachedn n explosive charges nurse immigrant detention centern n dressing success days means athleisuren n us airlines report second-quarter losses $ 11 billionn n reports new daily record covid-19 casesn n trumps strategy create panic jeh johnson saysn n carmelo anthony new fashion initiativen n maren morris motherhood mental healthn n woodward shocking trump revelationsn n possible signs life planet venusn n pa braces increase mail-in ballotsn n red & blue countdown vote \\x97 full episoden n presidential race stands 50 days outn n biden leads trump arizona minnesotan n tight races texas florida north carolinan n andrew card moments define presidenciesn n donald trumps conversations bob woodwardn n president trump speak bob woodward ? n n trump \\x93threat national security\\x94n n joaquin phoenix 60 minutes interviewn n tijuana river spills raw sewage californian n rising american electorate turn ? n n 2020 daily trail markers green party wont ballot wisconsinn n battleground tracker biden gains edge arizona leads big minnesotan n trump holds indoor campaign rally near las vegasn n new biden ads target black menn n puppy pulled rubble following california wildfiren n arizona teen become one first female eagle scoutsn n father son fighting hunger dallasn n woman spreads kindness houston airportn n driveway racetrack brings man young boy togethern n speaking frankly | feminismn n speaking frankly | censorshipn n speaking frankly | fat shamingn n speaking frankly | cancel culturen n coronavirus navajo nationn n carmelo anthony new fashion initiativen n black doulas fighting maternal mortalityn n black students turn social media expose racism schooln n audra mcdonald theater activism equalityn n minorities lacking covid-19 trialsn n using hoops build bridges hopen n chef david chang revealing new memoirn n honoring roots whiskey industryn n wisconsin lt governor blake shootingn n dublin pubs remain closed amid worrying virus surgen n watch live trump hosts israel bahrain uae deal signingsn n putin critic navalny looks alert 1st photo since novichok poisoningn n venezuela says ex-us marine spy arrested alleged terror plotn n syria may counting 125 % actual coronavirus deathsn n certified young person paul rudd 51 tells millennials wear masksn n hurricane sally could bring historic flooding gulf coastn n family carole baskins missing husband runs ad dwtsn n audio captures sailors shouting ship capsized georgian n pelosi wants house stay session covid deal reachedn n pelosi wants house stay session covid deal reachedn n hhs spokesman says recieved death threat facebook broadcastn n biden climate change means arent safe donald trumps american n biden makes first trip florida amid questions latino supportn n watch live trump hosts israel bahrain uae deal signingsn n certified young person paul rudd 51 tells millennials wear masksn n family carole baskins missing husband runs ad dwtsn n maren morris motherhood mental healthn n fia investigating lewis hamilton breonna taylor shirtn n jo malone apologizes star wars actor john boyega adn n tiktok owner picks oracle microsoft us tech partnern n microsoft says bid buy tiktok rejectedn n twitter delete label misleading election result postsn n russia china iran ramping attacks ahead election microsoft warnsn n microsoft set launch new xbox series x \\x97 heres whenn n 35 dead wildfires rage across west coastn n astronomers find possible sign life venusn n northern hemisphere warmest summer ever noaa saysn n hurricane sally category 2 takes aim gulf coastn n hurricane sally category 2 takes aim gulf coastn n grieving parents share warning colleges mull football seasonn n dublin pubs remain closed amid worrying virus surgen n syria may counting 125 % actual coronavirus deathsn n house dems launch probe political interference cdc reportsn n dr ashish jha rounded corner virus vaccinen n lego use paper bags boxed setsn n billionaire steve cohen clinches deal buy new york metsn n dressing success days means athleisuren n mercedes-benz pay $ 15 billion emissions cheatingn n us airlines report second-quarter losses $ 11 billionn n family carole baskins missing husband runs ad dwtsn n rochester mayor ousts police chief daniel prudes deathn n texas officer charged assault 2019 fatal shootingn n deputy fired punching black man repeatedly arrestn n reward offered suspect shot 2 la sheriffs deputiesn n astronomers find possible sign life venusn n golden age astrophotography backyardn n new hubble image features thousands multi-colored starsn n mighty mice stay bulked space untreated micen n new high-res images sun reveal terrifying structuren n astrophotography stunning images idahos night skyn n celebrities support joe biden presidentn n celebrities support donald trump presidentn n timeline shanti cooper murder casen n black people killed police us 2020 - part iin n red & blue countdown voten n donald trumps conversations bob woodwardn n cbsn originals feminismn n black students make voices heardn n tracking rising american electoraten multi-million settlement reached breonna taylor lawsuit trump spurns science climate \\x91don\\x92t think science knows\\x92 trump preside historic arab-israel recognition deals us tariffs china illegal says world trade body emmy predictions predicting future folly hurricane sally slows gathering deluge gulf coast \\x91work like devil\\x92 biden visiting florida woo latinos asia today india adds 83000 cases nears 5 million navalny posts hospital photo plans russia return multi-million settlement reached breonna taylor lawsuit trump spurns science climate \\x91don\\x92t think science knows\\x92 trump preside historic arab-israel recognition deals us tariffs china illegal says world trade body emmy predictions predicting future folly hurricane sally slows gathering deluge gulf coast \\x91work like devil\\x92 biden visiting florida woo latinos asia today india adds 83000 cases nears 5 million navalny posts hospital photo plans russia return trump hosts abraham accords signing ceremony trump says shot take syrias assad former adviser opposed breonna taylors family louisville announce substantial settlement civil suit pelosi keep house session coronavirus deal reached election quickly approaches nrepublicans unveil new agenda win back house william mcgurn ive become first-time gun owner -- heres made inspector general investigating roger stone sentencing ; doj responds rep collins presses apple information wiping iphone data amid mueller team controversy mighty ducks child star turned tech bitcoin billionaire running president superstars widow weighs la county sheriffs challenge lebron 2020 atlantic hurricane season running names happens next ? hurricane sally may bring historic flooding gulf coast storm crawls toward landfall watch florida deputy hunts suspected car thieves driveway helicopter ohio high school football players suspended carrying thin blue line thin red line flags onto field nsen rick scott riots hope die chants -- mad heres plan hackers interrupt court hearing zoom disturbing x-rated video clips nurse makes shocking claims immigration detention center georgia miami homeowner spots unexploded ordnance buried backyard sparks evacuation pakistani pm suggests surgical castration rapists woman gang raped highway rams sean mcvay speaks wearing mask cowboys game steeler deviates teams plan writes name army hero helmet axios walks back report tying conservative \\x91cuties\\x92 outrage qanon movement jennifer aniston brad pitt reunite paul rudd gives hilarious coronavirus psa urging millennials wear masks supermodel slammed debut dancing stars host tiger king family carole baskins missing ex-husband disrupts dancing stars debut social security benefits 2021 much check likely increase next year carmaker mclaren selling futuristic $ 250 million headquarters raise cash coronavirus outbreak party sickens least 12 students forcing high school go virtual cruise line moving forward 145-day voyage iconic new york bagel company pivots business model ship bagels across globe toy store employee adds wap shops playlist didnt realize late viral videos show georgia deputies beating passenger drivers license court oks deportation hundreds thousands immigrants another says homeland securitys head might legal authority brickbat morning school donald trump bob woodward noble lie la sheriffs deputies assault reporter attempt mislead public messy tiktok sale happens governments get involved social media harris returns home state california trump aide sparks new covid-19 furor allegedly poisoned alexey navalny recovering arrest shooting near phoenix courthouse biden tears trump remarks veterans group pushes changes confederate imagery police 3 brothers accused raping girl experts worry us virus restrictions violated teen charged shooting death sleeping woman fleeing suspect abandons winning lottery ticket covid-19 slams clevelands baseball bars clubs seeping doors bad air fires wont ease covid-19 vaccine becomes heated issue pivotal north carolina senate race grand jury issued criminal subpoenas connection john bolton book hurricane sally bringing history-making rains gulf coast forecasters say workers washington dc region likely work home next summer oil demand collapsed wont come back time soon facebook vp nick clegg new climate change information hub haze spreads across us wildfires continue tear west bipartisan senate push extend census begins weeks count set end american incomes rising pandemic hit israel bahrain uae sign deals formalizing ties white house alexei navalny releases photo hospital bed nerve agent poisoning netflix ceo embraces rules work anything chill volatile mix south korean church politics coronavirus sds attorney general fatally strikes man car says thought hit deer collect data influence votes traces genesis data-driven politics daniel prude death rochester ny mayor fires police chief seeks federal inquiries inspector general slams fema repeatedly flooded homes coronavirus maps severe states outbreak ? coronavirus world map tracking spread outbreak theaters still closed 136-year-old playbill quick online pivot ike monument unlike eisenhower memorial dedicated dc cant vote daca recipient working register others growing demand wilderness education may widen learning inequality n cbsnn n hurricane sally approaches gulf coastn n president trump questions climate sciencen n pa braces increase mail-in ballotsn n ondevan campervan back roadn n louisville pay $ 12 million breonna taylors familyn n hurricane sally starts lashing gulf coast churns sluggish pacen n aurora temporarily bans ketamine elijah mcclains deathn n justice department investigating publication boltons tell-all bookn n trump hosts israel bahrain uae deal signingsn n sheriff issues challenge lebron james deputies ambushedn n south dakota ag revises story fatally hitting man carn n 5 deaths 175 virus cases linked maine weddingn n biden makes first trip florida amid questions latino supportn n wildfire smoke west spread washington dcn n pelosi wants house stay session covid deal reachedn n bill gates questions fdas credibility covid-19 vaccinen n scientific american backs biden first presidential endorsementn n twitter launches election hub fight disinformationn n audio captures sailors shouting ship capsized georgian n family carole baskins missing husband runs ad dwtsn n lego use paper bags boxed setsn n certified young person paul rudd 51 tells millennials wear masksn n grieving parents share warning colleges mull football seasonn n bill gates questions fdas credibility covid-19 vaccinen n syria may counting 125 % actual coronavirus deathsn n dublin pubs remain closed amid worrying virus surgen n 5 deaths 175 virus cases linked maine weddingn n pelosi wants house stay session covid deal reachedn n certified young person paul rudd 51 tells millennials wear masksn n dressing success days means athleisuren n us airlines report second-quarter losses $ 11 billionn n carmelo anthony new fashion initiativen n maren morris motherhood mental healthn n woodward shocking trump revelationsn n possible signs life planet venusn n pa braces increase mail-in ballotsn n red & blue countdown vote \\x97 full episoden n presidential race stands 50 days outn n biden leads trump arizona minnesotan n tight races texas florida north carolinan n andrew card moments define presidenciesn n trump biden hit campaign trailn n presidential race stands 50 days outn n tight races texas florida north carolinan n trump biden fight latino voten n biden leads trump arizona & minnesotan n scientific american backs joe biden first presidential endorsementn n rising american electorate turn ? n n 2020 daily trail markers green party wont ballot wisconsinn n battleground tracker biden gains edge arizona leads big minnesotan n trump holds indoor campaign rally near las vegasn n puppy pulled rubble following california wildfiren n arizona teen become one first female eagle scoutsn n father son fighting hunger dallasn n woman spreads kindness houston airportn n driveway racetrack brings man young boy togethern n speaking frankly | feminismn n speaking frankly | censorshipn n speaking frankly | fat shamingn n speaking frankly | cancel culturen n coronavirus navajo nationn n carmelo anthony new fashion initiativen n black doulas fighting maternal mortalityn n black students turn social media expose racism schooln n audra mcdonald theater activism equalityn n minorities lacking covid-19 trialsn n using hoops build bridges hopen n chef david chang revealing new memoirn n honoring roots whiskey industryn n wisconsin lt governor blake shootingn n section largest remaining arctic ice shelf shattersn n dublin pubs remain closed amid worrying virus surgen n trump hosts israel bahrain uae deal signingsn n putin critic navalny looks alert 1st photo since novichok poisoningn n venezuela says ex-us marine spy arrested alleged terror plotn n hurricane sally starts lashing gulf coast churns sluggish pacen n biden makes first trip florida amid questions latino supportn n jpmorgan workers sent home test positive virusn n hobby lobby raising minimum wage $ 17 hourn n aurora temporarily bans ketamine elijah mcclains deathn n biden makes first trip florida amid questions latino supportn n scientific american backs joe biden first presidential endorsementn n justice department investigating publication boltons tell-all bookn n face nation # 1 sunday morning show viewers september 13n n twitter launches election hub fight disinformationn n family carole baskins missing husband runs ad dwtsn n certified young person paul rudd 51 tells millennials wear masksn n maren morris motherhood mental healthn n fia investigating lewis hamilton breonna taylor shirtn n jo malone apologizes star wars actor john boyega adn n tiktok owner picks oracle microsoft us tech partnern n microsoft says bid buy tiktok rejectedn n twitter delete label misleading election result postsn n russia china iran ramping attacks ahead election microsoft warnsn n microsoft set launch new xbox series x \\x97 heres whenn n section largest remaining arctic ice shelf shattersn n scientific american backs joe biden first presidential endorsementn n birds dropping dead experts trying figure whyn n wildfire smoke west spread washington dcn n 35 dead wildfires rage across west coastn n aurora temporarily bans ketamine elijah mcclains deathn n bill gates questions fdas credibility covid-19 vaccinen n grieving parents share warning colleges mull football seasonn n dublin pubs remain closed amid worrying virus surgen n syria may counting 125 % actual coronavirus deathsn n billionaire steve cohen clinches deal buy new york metsn n 50 expensive colleges america rankedn n lego use paper bags boxed setsn n dressing success days means athleisuren n us airlines report second-quarter losses $ 11 billionn n family carole baskins missing husband runs ad dwtsn n sheriff issues challenge lebron james deputies ambushedn n rochester mayor ousts police chief daniel prudes deathn n texas officer charged assault 2019 fatal shootingn n deputy fired punching black man repeatedly arrestn n astronomers find possible sign life venusn n golden age astrophotography backyardn n new hubble image features thousands multi-colored starsn n mighty mice stay bulked space untreated micen n new high-res images sun reveal terrifying structuren n 50 expensive colleges america rankedn n astrophotography stunning images idahos night skyn n celebrities support joe biden presidentn n celebrities support donald trump presidentn n timeline shanti cooper murder casen n ondevan campervan back roadn n black parents share experiences racismn n donald trumps conversations bob woodwardn n cbsn originals feminismn n tracking rising american electoraten trump israeli pacts 2 arab states signal \\x91new\\x92 mideast experts worry us virus restrictions eased violated \\x91huge rainmaker\\x92 hurricane sally threatens historic floods income us rose 2019 uninsured gloria estefan alex rodriguez mark latino impact media apology firing official said us scientists hurt trump city pay $ 12m breonna taylor\\x92s family reform police outside investigators look south dakota ag\\x92s fatal crash apple debuts discount watch new iphones yet trump israeli pacts 2 arab states signal \\x91new\\x92 mideast experts worry us virus restrictions eased violated \\x91huge rainmaker\\x92 hurricane sally threatens historic floods income us rose 2019 uninsured gloria estefan alex rodriguez mark latino impact media apology firing official said us scientists hurt trump city pay $ 12m breonna taylor\\x92s family reform police outside investigators look south dakota ag\\x92s fatal crash apple debuts discount watch new iphones yet view\\x92 co-host calls joe rogan \\x91misogynistic racist homophobic\\x92 cnbcs jim cramer calls nancy pelosi \\x91crazy nancy\\x92 face live interview blames trump nlouisville agrees $ 12m settlement breonna taylors family pledges police reform nbahrain uae recognize israel new us-brokered deals pelosi calls distraction rocket attack reported israel historic white house peace deal signing former shell oil president middle east peace deal great day energy set trump says shot take syrias assad didnt trump turn closest losses 2016 victories biden leads trump florida north carolina wisconsin polls ntrump campaign launching coalition galvanize jewish voters biden blasts trump touts veterans issues first stop battleground florida republicans unveil new agenda win back house lawyer says bolton \\x91will cooperate fully\\x92 doj launches probe book trump admin shuts cdc training purportedly flouted executive order critical race theory pa gov wolf slams trump state republicans judge declares covid shutdown unconstitutional 1600 uncounted nj primary ballots found random bin county elections board bill gates questions credibility fda suggests agency may becoming politicized school chancellor big ten universities concerns addressed try plan delayed season mlbs rob manfred aims fans attendance world series lcs report cuomo announces 6 states travelers visiting new york quarantine coronavirus death toll linked maine wedding grows 7 ex-facebook employee makes explosive claims tech giant ignored worldwide political manipulation report man erects electric fence protecting trump 2020 lawn sign michelle obama\\x92s silence gone unnoticed conservatives call ex-first family nix controversial netflix film apple unveils fitness+ app boston woman killed apparent elevator accident heard ungodly scream maryland caregiver charged killing 81-year-old woman kohls cuts 15 % corporate workforce mcdonalds offering bogo deal spicesurance spicy nuggets national launch day samuel adams auntie anne\\x92s recreate oktoberfest fans home louisville pay $ 12 million settle lawsuit breonna taylors family whistleblower nurse alleges disturbing number hysterectomies ice detention facility viral videos show georgia deputies beating passenger drivers license court oks deportation hundreds thousands immigrants another says homeland securitys head might legal authority brickbat morning school federal court rules pennsylvanias lockdown order unconstitutional us outlines plan provide free covid-19 vaccines lawmakers boeing faa blame 737 max crashes gunman shoots moving police car 3 times 175 yrs science mag makes endorsement uk ration covid-19 testing amid testing failures study hints drug may cut covid hospitalizations satellites show smoke us wildfires reaches eu 5m people infected indias virus outbreak soaring big ten changes course aims october start aide said scientists hurt trump warns shooting grand jury charges bar owner protesters death us deports woman alleged sex assault guards 2020 electoral map ratings landscape tightens biden still ahead hurricane sally makes landfall category 2 near alabama-florida line people spending furniture clothes restaurants bars celebrities boycott facebook instagram day disinformation hate speech coronavirus world map tracking spread outbreak coronavirus maps severe states outbreak ? jobs pandemic freelance may stay way forever bill gates sr father microsoft co-founder dies 94 congressional inquiry faults boeing faa failures deadly 737 max plane crashes parents keep children home china limits mongolian language classroom latinos report financial strain pandemic erodes income savings whistleblower alleges medical neglect questionable hysterectomies ice detainees majority children die covid-19 children color google says doesnt monopolize digital ad market senators dont buy pennsylvania officials stand pandemic response judge rules orders workers washington dc region likely work home next summer oil demand collapsed wont come back time soon facebook vp nick clegg new climate change information hub haze spreads across us wildfires continue tear west bipartisan senate push extend census begins weeks count set end n cbsnn n hurricane sally makes landfall category 2n n least 8 people dead oregon firesn n trump claims up-played coronavirusn n biden leads among latinos sunshine staten n hurricane sally bringing historic catastrophic flooding hits gulf coastn n police leaders pressed rochester keep prude video secretn n house panel blasts boeing faa fatal 737 max crashesn n divers think theyve found us submarine lost wwiin n boston university teacher killed elevator accidentn n trump claims up-played coronavirusn n environmentalists pan facebooks new climate change hubn n japans quiet new leader may get along trump bidenn n biden trumps wildfire responses show divide climaten n notorious bigs 1997 crown sells nearly $ 600000n n newcomer qanon ties wins gop senate primary delawaren n return mail-in ballot without sending mailn n world failing save biodiversity un warnsn n maine wedding linked deaths 7 people didnt attendn n artists age 50 allowedn n kim kardashian west briefly freeze instagram facebook accountsn n louisville pay $ 12m breonna taylors family reform policen n blues singer lady countersues country band namen n maine wedding linked deaths 7 people didnt attendn n lsu football players covid-19 coach saysn n athletes stay shape 2021 olympicsn n grieving parents share warning colleges mull football seasonn n bill gates questions fdas credibility covid-19 vaccinen n syria may counting 125 % actual coronavirus deathsn n dublin pubs remain closed amid worrying virus surgen n pelosi wants house stay session covid deal reachedn n certified young person paul rudd 51 tells millennials wear masksn n sesame streets maria new childrens bookn n nyc teachers protest reopening schoolsn n kelsea ballerini new albumn n athletes stay shape 2021 olympicsn n options returning mail-in ballotn n red & blue countdown vote \\x97 full episoden n presidential race stands 50 days outn n biden leads trump arizona minnesotan n tight races texas florida north carolinan n andrew card moments define presidenciesn n donald trumps conversations bob woodwardn n president trump speak bob woodward ? n n trump \\x93threat national security\\x94n n joaquin phoenix 60 minutes interviewn n tijuana river spills raw sewage californian n scientific american backs joe biden first presidential endorsementn n rising american electorate turn ? n n biden makes first visit florida democratic nomineen n battleground tracker biden gains edge arizona leads big minnesotan n trump holds indoor campaign rally near las vegasn n puppy pulled rubble following california wildfiren n arizona teen become one first female eagle scoutsn n father son fighting hunger dallasn n woman spreads kindness houston airportn n driveway racetrack brings man young boy togethern n speaking frankly | feminismn n speaking frankly | censorshipn n speaking frankly | fat shamingn n speaking frankly | cancel culturen n coronavirus navajo nationn n notorious bigs 1997 crown sells nearly $ 600000n n $ 12m settlement breonna taylors familyn n carmelo anthony new fashion initiativen n black doulas fighting maternal mortalityn n black students turn social media expose racism schooln n audra mcdonald theater activism equalityn n minorities lacking covid-19 trialsn n using hoops build bridges hopen n chef david chang revealing new memoirn n japans quiet new leader may get along trump bidenn n divers think theyve found us submarine lost wwiin n japanese prime minister shinzo abe officially resignsn n section largest remaining arctic ice shelf shattersn n dublin pubs remain closed amid worrying virus surgen n lsu football players covid-19 coach saysn n survey millennials gen z lack holocaust knowledgen n hurricane sally bringing historic catastrophic flooding hits gulf coastn n police leaders pressed rochester keep prude video secretn n notorious bigs 1997 crown sells nearly $ 600000n n trump tweets doctored video biden prompting flag twittern n newcomer qanon ties wins gop senate primary delawaren n house panel blasts boeing faa fatal 737 max crashesn n trump claims up-played coronavirusn n biden trump responses wildfires highlight divide climate changen n sesame streets maria new childrens bookn n kelsea ballerini new albumn n family carole baskins missing husband runs ad dwtsn n certified young person paul rudd 51 tells millennials wear masksn n maren morris motherhood mental healthn n environmentalists pan facebooks new climate change hubn n apple unveils cheaper watch new ipad fitness servicen n tiktok owner picks oracle microsoft us tech partnern n microsoft says bid buy tiktok rejectedn n twitter delete label misleading election result postsn n hurricane sally bringing historic catastrophic flooding hits gulf coastn n western wildfires pollute air threaten health residentsn n biden trump responses wildfires highlight divide climate changen n hurricane sally strengthening inches toward gulf coastn n alaska air suspends flights wildfire smoken n lsu football players covid-19 coach saysn n maine wedding linked deaths 7 people didnt attendn n bill gates questions fdas credibility covid-19 vaccinen n aurora temporarily bans ketamine elijah mcclains deathn n grieving parents share warning colleges mull football seasonn n kim kardashian west briefly freeze instagram facebook accountsn n online trading academy deceived customers years ftc saysn n jpmorgan workers sent home test positive virusn n hobby lobby raising minimum wage $ 17 hourn n billionaire steve cohen clinches deal buy new york metsn n family carole baskins missing husband runs ad dwtsn n louisville pay $ 12m breonna taylors family reform policen n sheriff issues challenge lebron james deputies ambushedn n rochester mayor ousts police chief daniel prudes deathn n texas officer charged assault 2019 fatal shootingn n astronomers find possible sign life venusn n golden age astrophotography backyardn n new hubble image features thousands multi-colored starsn n mighty mice stay bulked space untreated micen n new high-res images sun reveal terrifying structuren n 50 expensive colleges america rankedn n astrophotography stunning images idahos night skyn n celebrities support joe biden presidentn n celebrities support donald trump presidentn n timeline shanti cooper murder casen n ondevan campervan back roadn n black parents share experiences racismn n donald trumps conversations bob woodwardn n cbsn originals feminismn n tracking rising american electoraten \\x91nothing left bucket\\x92 wildfire resources run thin us outlines sweeping plan provide free covid-19 vaccines 5m people infected india\\x92s virus outbreak still soaring bloomberg\\x92s $ 100 million florida bet may shape campaign celebs join instagram \\x91freeze\\x92 protest facebook inaction politics creates economic illusion houdini\\x92s hometown big ten changes course play fall football report finds global economic outlook bad expected japan\\x92s new pm yoshihide suga self-made strong-willed \\x91nothing left bucket\\x92 wildfire resources run thin us outlines sweeping plan provide free covid-19 vaccines 5m people infected india\\x92s virus outbreak still soaring bloomberg\\x92s $ 100 million florida bet may shape campaign celebs join instagram \\x91freeze\\x92 protest facebook inaction politics creates economic illusion houdini\\x92s hometown big ten changes course play fall football report finds global economic outlook bad expected japan\\x92s new pm yoshihide suga self-made strong-willed de blasio entire nyc mayors office including mayor furloughed week budget crisis hurricane sally brings catastrophic flooding severe widespread damage alabama landfall trump trolls biden sharing manipulated video dancing f -- - tha police fla lt gov nunez reacts biden touting achievements latinos grassley demands biden name potential supreme court nominees biden presidency could change tax bill joey jones says hes personally offended bidens story veteran ptsd second hostage escapes detroit home ; armed suspect inside hourslong negotiations drag la county employee removed shocking post deputy ambush protester charged pointing laser powerful would burn paper officers eye gop rep hold special order house floor find whos funding recent riots georgia man fleeing deputies leaves behind lottery ticket waiting congratulations way david wurmser israel-uae-bahrain agreements show arab nations won\\x92t let palestinians block regional peace alan dershowitz files $ 300 million defamation suit cnn cuomo wont ban halloween trick-or-treating ny wildfires california western states live updatesn oregon man tries rob cab driver gunpoint gets shot firearm police bu professor crushed death moving new apartment melania trump statue replaced arson attack nfl legend mike ditka addresses players protesting national anthem actress shares tweets calling trump rapist pedophile model accuses photographer sexual assault 2012 caitlyn jenner blasts joe rogan criticism kardashians says shell go podcast nascar truck series changing name heres bride accuses parents ruining wedding can\\x92t attend reason monkey steals mans phone proceeds take hilarious selfies chick-fil-a testing new chicken sandwich two states ron wynn sellers market means country star luke combs partners ford good cause jennifer lopez 51 stuns pink bikini \\x91feeling golden\\x92 new fcc nominee already helping trump try censor social media brickbat stop cutting cheese louisville pay $ 12 million settle lawsuit breonna taylors family justice departments investigation john bolton seems like witch hunt whistleblower nurse alleges disturbing number hysterectomies ice detention facility peace candidate donald trump threatens massive retaliation iran response rumored assassination plot sally bringing life-threatening flooding drug seizures along canadian border 1000 % barbados drop queen elizabeth head state close contest wis ; minn much poll college cancels classes 1 hurt shooting 20 injured crane accident austin damage kenosha unrest tops $ 11m fire chief cop fired fla school massacre gets job back gunman shoots moving police car 3 times satellites show smoke us wildfires reaches eu big ten changes course aims october start 5m people infected indias virus outbreak soaring hhs spokesperson takes leave absence disparaging government scientists firefighters battle save las historic mount wilson observatory sally drops incredible rainfall totals alabama florida backup driver autonomous uber suv charged negligent homicide arizona contradicting cdc trump says covid-19 vaccine could ready end year campuses become covid-19 hot spots colleges strain financial pressures celebrities boycott facebook instagram day disinformation hate speech stanley crouch towering jazz critic dead 74 economic recovery slows fed sees many risks pledges full support big ten reverses decision start football season october politics football mix trump cheers return big ten play yoshihide suga becomes japans prime minister pledging follow abes course trust vaccines trust scientists dont trust donald trump biden says scientists say mind-bending rhythm brain act like ketamine jon stewart uses celebrity bring attention vets exposed burn pits trump administration appeals supreme court blocked census memo new york city mayor announces furlough week city faces shortfall us diplomat asks belarus release jailed husband vitali shkliarov n cbsnn n hurricane sally makes landfall category 2n n least 8 people dead oregon firesn n trump claims up-played coronavirusn n biden leads among latinos sunshine staten n trump says cdc director made mistake vaccine timelinen n hurricane sally unleashes catastrophic life-threatening floodingn n kids young adults color die covid-19 higher ratesn n salt lake city cop charged ordering k-9 bite black mann n trump health aide taking leave absence targeting cdc scientistsn n police leaders pressed rochester keep prude video secretn n trump appears contradict earlier remarks killing syrias leadern n federal reserve sees interest rates near zero 2023n n pelosi pushes dems frustrated covid relief negotiationsn n big ten college football happen year alln n wnbas maya moore marries man helped free prisonn n pakistan leader suggests rapists castrated mother gang-rapedn n top health officials unaware trumps obamacare replacement plann n black voter confronts trump maga slogann n maine wedding linked deaths 7 people didnt attendn n sanders would encouraged woodward access trumpn n divers think theyve found us submarine lost wwiin n barbados remove queen elizabeth head staten n fact-checking trumps town hall health care claimsn n big ten college football happen year alln n feds roll plan distribute free covid-19 vaccine approvedn n pelosi pushes dems frustrated covid relief negotiationsn n california artists try adapt new world wrought pandemicn n united airlines using antimicrobial coating cabinsn n maine wedding linked deaths 7 people didnt attendn n lsu football players covid-19 coach saysn n trump claims up-played coronavirusn n sesame streets maria new childrens bookn n nyc teachers protest reopening schoolsn n kelsea ballerini new albumn n athletes stay shape 2021 olympicsn n options returning mail-in ballotn n red & blue countdown vote \\x97 full episoden n presidential race stands 50 days outn n biden leads trump arizona minnesotan n tight races texas florida north carolinan n andrew card moments define presidenciesn n voting age ballot coloradon n climate change top election issuen n takes win floridan n pennsylvania expects influx mail-in ballotsn n florida latinos swamped wild conspiraciesn n scientific american backs joe biden first presidential endorsementn n rising american electorate turn ? n n biden makes first visit florida democratic nomineen n battleground tracker biden gains edge arizona leads big minnesotan n trump holds indoor campaign rally near las vegasn n puppy pulled rubble following california wildfiren n arizona teen become one first female eagle scoutsn n father son fighting hunger dallasn n woman spreads kindness houston airportn n driveway racetrack brings man young boy togethern n speaking frankly | feminismn n speaking frankly | censorshipn n speaking frankly | fat shamingn n speaking frankly | cancel culturen n coronavirus navajo nationn n notorious bigs 1997 crown sells nearly $ 600000n n $ 12m settlement breonna taylors familyn n carmelo anthony new fashion initiativen n black doulas fighting maternal mortalityn n black students turn social media expose racism schooln n audra mcdonald theater activism equalityn n minorities lacking covid-19 trialsn n using hoops build bridges hopen n chef david chang revealing new memoirn n pakistan leader suggests rapists castrated mother gang-rapedn n barbados remove queen elizabeth head staten n trump appears contradict earlier remarks killing syrias leadern n japans quiet new leader may get along trump bidenn n divers think theyve found us submarine lost wwiin n hurricane sally unleashes catastrophic life-threatening floodingn n 19-year-old helicopter pilot helps fight california wildfiresn n california boat fire crew says werent trained emergenciesn n biden believes would authority impose national mask mandaten n family fort hood soldier alleges foul play deathn n biden believes would authority impose national mask mandaten n trump says cdc director made mistake vaccine timelinen n supreme court kick new term remotely telephone argumentsn n fact-checking trumps town hall health care claimsn n trump health aide taking leave absence targeting cdc scientistsn n sesame streets maria new childrens bookn n kelsea ballerini new albumn n family carole baskins missing husband runs ad dwtsn n certified young person paul rudd 51 tells millennials wear masksn n maren morris motherhood mental healthn n environmentalists pan facebooks new climate change hubn n apple unveils cheaper watch new ipad fitness servicen n tiktok owner picks oracle microsoft us tech partnern n microsoft says bid buy tiktok rejectedn n twitter delete label misleading election result postsn n hurricane sally unleashes catastrophic life-threatening floodingn n western wildfires pollute air threaten health residentsn n biden trump responses wildfires highlight divide climate changen n hurricane sally strengthening inches toward gulf coastn n alaska air suspends flights wildfire smoken n kids young adults color die covid-19 higher ratesn n maine wedding linked deaths 7 people didnt attendn n lsu football players covid-19 coach saysn n bill gates questions fdas credibility covid-19 vaccinen n aurora temporarily bans ketamine elijah mcclains deathn n united airlines using antimicrobial coating cabinsn n california artists try adapt new world wrought pandemicn n apple unveils cheaper watch new ipad fitness servicen n alaska air suspends flights wildfire smoken n online trading academy deceived customers years ftc saysn n salt lake city cop charged ordering k-9 bite black mann n family carole baskins missing husband runs ad dwtsn n louisville pay $ 12m breonna taylors family reform policen n sheriff issues challenge lebron james deputies ambushedn n rochester mayor ousts police chief daniel prudes deathn n astronomers find possible sign life venusn n golden age astrophotography backyardn n new hubble image features thousands multi-colored starsn n mighty mice stay bulked space untreated micen n new high-res images sun reveal terrifying structuren n 50 expensive colleges america rankedn n astrophotography stunning images idahos night skyn n celebrities support joe biden presidentn n celebrities support donald trump presidentn n timeline shanti cooper murder casen n ondevan campervan back roadn n black parents share experiences racismn n donald trumps conversations bob woodwardn n cbsn originals feminismn n tracking rising american electoraten health official leave amid political interference furor reverse big ten try play fall football takeaways trump\\x92s town hall offered preview debates biden says trusts vaccines scientists trump wildfire smoke brings haze vivid sunsets east coast \\x91nothing left bucket\\x92 wildfire resources run thin us unveils broad vaccine plan -- quick rollout fed sees rates near zero 2023 perhaps longer story underground railroad mexico gains attention health official leave amid political interference furor reverse big ten try play fall football takeaways trump\\x92s town hall offered preview debates biden says trusts vaccines scientists trump wildfire smoke brings haze vivid sunsets east coast \\x91nothing left bucket\\x92 wildfire resources run thin us unveils broad vaccine plan -- quick rollout fed sees rates near zero 2023 perhaps longer story underground railroad mexico gains attention live updates hurricane sally hits gulf coast brings devastating flooding fema administrator warns dangerous flash flooding hurricane sally moves inland deadly wildfires rage california western states -- get live updates trump campaign asks twitter mark biden ad manipulated happened sheriff pennsylvania switches gop says democratic party left kayleigh mcenany trump administration\\x92s strategy get vaccine ag barr addresses rumors trump would refuse leave office loses election kushner cancels interview msnbcs andrea mitchell saying abraham accords middle east peace anti-mask protesters march florida target yell take mask ! gov desantis biden failing make sale voters florida north carolina mans disappearance investigated homicide jon stewart back washington new fight veterans looking burn pit relief sen loeffler calls death penalty convicted cop killers demands end senseless violence acm awards 2020 watch know academy country music awards apple provided seattle investigators icloud data belonging rioter accused setting police car fire george floyd riots reportedly cost whopping amount claims report says sacred heart jesus statue texas cathedral destroyed al gore promotes movement cut global emissions half 2030 fitness company offering $ 13000 people work diet 3 months trump congratulates big ten comeback tells pac-12 get going usa today columnist says decision play football \\x91darkest day\\x92 big ten history overlooks sandusky nassar scandals mike ditka ripped ex-cowboys wr national anthem comments entitled finest erin andrews\\x92 \\x91bizarre\\x92 new nfl world filled tom brady f-bombs oxford museum removes shrunken heads human remains display racism concerns kanye west shares video grammy award urinated trust wont stop tsa explosives expert called examine suspicious item luggage could resulted tragic outcomen devil time star bill skarsgård playing dark characters like explore extremities msnbc\\x92s maddow uses obama-era photos immigrant children slam trump disney may delay black widow release pushes soul streaming service report taghi amirani us-backed 1953 coup iran still changing global politics homeschooling hits tipping point us withdraws foolish threat new tariffs canadian aluminum new fcc nominee already helping trump try censor social media brickbat stop cutting cheese louisville pay $ 12 million settle lawsuit breonna taylors family reward man shot 2 sheriffs deputies grows white house offered tests big ten sources navalny team says poison found bottle hotel barr takes aim doj career prosecutors drug seizures along canadian border 1000 % barbados drop queen elizabeth head state uk defends planned brexit deal breach texas lawmakers demand russia free ex-us marine close contest wis ; minn much poll college cancels classes 1 hurt shooting hawaii let travelers skip quarantine test 20 injured crane accident austin omaha grand jury indicts bar owner fatal shooting black protester may trump casts new doubt deal keep tiktok alive us millions gig workers depend new unemployment program fear itll end soon barr blasts prosecutors power vested attorney general coronavirus maps severe states outbreak ? coronavirus world map tracking spread outbreak im 1 person teachers feel torn students kids cant america make enough n95 masks ? 6 months pandemic shortages persist complicated importance abortion trump voters us agency urges end below-minimum wage workers disabilities ncaa says college basketball season start day thanksgiving complaints trump administration agrees in-person election threat briefings ice almost deported immigrant woman says got unwanted surgery detained trust vaccines trust scientists dont trust donald trump biden says scientists say mind-bending rhythm brain act like ketamine hhs spokesperson takes leave absence disparaging government scientists jon stewart uses celebrity bring attention vets exposed burn pits trump administration appeals supreme court blocked census memo new york city mayor announces furlough week city faces shortfall contradicting cdc trump says covid-19 vaccine could ready end year us diplomat asks belarus release jailed husband vitali shkliarov n cbsnn n eye opener trump cdc odds vaccinen n cbsn originals socialismn n trump cdc director disagree masks vaccinesn n families flee western wildfires continuen n sally still threat florida panhandle alabaman n trump says cdc director made mistake vaccine timelinen n growing number americans turning socialismn n barr assails doj prosecutors says headhuntersn n country crumbles syrians face terrifying option refugee lifen n salt lake city cop charged ordering k-9 bite black mann n family fort hood soldier alleges foul play deathn n video shows huge alligator swimming sallys storm surgen n tie top prize academy country music awards -- firstn n 19-year-old helicopter pilot helps fight california wildfiresn n drone lands wrigley field outfield gamen n thief nabs $ 500 million worth chinese communist memorabilian n wnbas maya moore marries man helped free prisonn n 163000 businesses yelp closed since marchn n california boat fire crew says werent trained emergenciesn n supreme court kick new term remotely telephone argumentsn n pakistan leader suggests rapists castrated mother gang-rapedn n black voter confronts trump maga slogann n covid-19 linked preterm deliveries cdc report saysn n kids young adults color die covid-19 higher ratesn n feds roll plan distribute free covid-19 vaccine approvedn n fact-checking trumps town hall health care claimsn n big ten college football happen year alln n pelosi pushes dems frustrated covid relief talksn n united airlines using antimicrobial coating cabinsn n maine wedding linked deaths 7 people didnt attendn n lsu football players covid-19 coach saysn n barr compares pandemic slaveryn n trump contradicts cdc director masksn n eye opener trump cdc odds vaccinen n sesame streets maria new childrens bookn n nyc teachers protest reopening schoolsn n red & blue countdown vote \\x97 full episoden n presidential race stands 50 days outn n biden leads trump arizona minnesotan n tight races texas florida north carolinan n andrew card moments define presidenciesn n donald trumps conversations bob woodwardn n president trump speak bob woodward ? n n trump \\x93threat national security\\x94n n joaquin phoenix 60 minutes interviewn n tijuana river spills raw sewage californian n scientific american backs joe biden first presidential endorsementn n rising american electorate turn ? n n biden democrats focus health care messagingn n battleground tracker biden gains edge arizona leads big minnesotan n trump holds indoor campaign rally near las vegasn n puppy pulled rubble following california wildfiren n arizona teen become one first female eagle scoutsn n father son fighting hunger dallasn n woman spreads kindness houston airportn n driveway racetrack brings man young boy togethern n speaking frankly | socialismn n speaking frankly | feminismn n speaking frankly | censorshipn n speaking frankly | fat shamingn n speaking frankly | cancel culturen n notorious bigs 1997 crown sells nearly $ 600000n n $ 12m settlement breonna taylors familyn n carmelo anthony new fashion initiativen n black doulas fighting maternal mortalityn n black students turn social media expose racism schooln n audra mcdonald theater activism equalityn n minorities lacking covid-19 trialsn n using hoops build bridges hopen n chef david chang revealing new memoirn n 2nd senior us official visits taiwan irking beijing even moren n thief reportedly nabs $ 500m worth chinese communist memorabilian n country crumbles syrians face terrifying option refugee lifen n pakistan leader suggests rapists castrated mother gang-rapedn n barbados remove queen elizabeth head staten n drone lands wrigley field outfield gamen n covid-19 linked preterm deliveries cdc report saysn n trump says cdc director made mistake vaccine timelinen n video shows huge alligator swimming sallys storm surgen n fact-checking trumps town hall health care claimsn n barr assails doj prosecutors says headhuntersn n trump says cdc director made mistake vaccine timelinen n fact-checking trumps town hall health care claimsn n growing number americans turning socialismn n biden democrats focus health care messagingn n family carole baskins missing husband runs ad dwtsn n tie top prize academy country music awards \\x96 firstn n sesame streets maria new childrens bookn n kelsea ballerini new albumn n certified young person paul rudd 51 tells millennials wear masksn n environmentalists pan facebooks new climate change hubn n apple unveils cheaper watch new ipad fitness servicen n tiktok owner picks oracle microsoft us tech partnern n microsoft says bid buy tiktok rejectedn n twitter delete label misleading election result postsn n least 1 dead hurricane sally unleashes catastrophic floodingn n western wildfires pollute air threaten health residentsn n biden trump responses wildfires highlight divide climate changen n hurricane sally strengthening inches toward gulf coastn n alaska air suspends flights wildfire smoken n covid-19 linked preterm deliveries cdc report saysn n kids young adults color die covid-19 higher ratesn n maine wedding linked deaths 7 people didnt attendn n lsu football players covid-19 coach saysn n bill gates questions fdas credibility covid-19 vaccinen n united airlines using antimicrobial coating cabinsn n california artists try adapt new world wrought pandemicn n kim kardashian west briefly freeze instagram facebook accountsn n apple unveils cheaper watch new ipad fitness servicen n alaska air suspends flights wildfire smoken n family carole baskins missing husband runs ad dwtsn n salt lake city cop charged ordering k-9 bite black mann n louisville pay $ 12m breonna taylors family reform policen n sheriff issues challenge lebron james deputies ambushedn n rochester mayor ousts police chief daniel prudes deathn n astronomers find possible sign life venusn n golden age astrophotography backyardn n new hubble image features thousands multi-colored starsn n mighty mice stay bulked space untreated micen n new high-res images sun reveal terrifying structuren n 50 expensive colleges america rankedn n astrophotography stunning images idahos night skyn n celebrities support joe biden presidentn n celebrities support donald trump presidentn n timeline shanti cooper murder casen n cbsn originals feminismn n barr compares pandemic slaveryn n trump contradicts cdc director masksn n eye opener trump cdc odds vaccinen n cbsn originals censorshipn india\\x92s virus cases rise questions death toll sally rescue recovery wary eye rivers showdown set us declare un sanctions iran back western wildfire smoke causes east coast haze vivid sunsets new companies face tough task overcoming pandemic recession trump disputes health officials sees mass vaccinations soon first volume barack obama\\x92s memoir coming nov 17 novichok-tinged bottle found navalny\\x92s room colleagues lockdown israel faces bitter start jewish new year india\\x92s virus cases rise questions death toll sally rescue recovery wary eye rivers showdown set us declare un sanctions iran back western wildfire smoke causes east coast haze vivid sunsets new companies face tough task overcoming pandemic recession trump disputes health officials sees mass vaccinations soon first volume barack obama\\x92s memoir coming nov 17 novichok-tinged bottle found navalny\\x92s room colleagues lockdown israel faces bitter start jewish new year live updates rescue operations underway sally turns deadly widespread life-threatening floodwaters hurricane sally power outages top 540000 alabama florida georgia teddy become major hurricane way bermuda mark steyn reacts biden playing despacito campaign event mccarthy republican party retaking house far-off fantasy barr asked prosecutors explore charges durkan chop nyt ; us attorney responds portland man allegedly set dumpster fire alongside police building 19 people inside minneapolis city council alarmed surge crime months voting defund police new details search gunman ambushed la deputy hospital military police inquired heat rays use white house protesters report chris rock rips pelosi dems let pandemic come impeachment oregon woman seen holding suspected arsonist gunpoint property ? ndeadly wildfires rage california western states -- get live updates families aim build city freedom black people 97 acres georgia ntsb releases docs tragic california dive boat fire killed 34 boy\\x92s body found 2 months kayaking accident report nebraska bar owner indicted protest shooting death initially ruled self-defense dentist extracted tooth hoverboard sentenced 12 years prison see carson poked fun plagiarism claims biden kushner cancels interview msnbcs andrea mitchell saying abraham accords middle east peacen ben shapiro moving news operation california tennessee bad governance consequences obama memoir released nov 17 25 languages wisconsin mans beach find examined looked like chicken breast -- kind airlines flight nowhere sells 10 minutes -- tickets priced $ 2765 popular vacation destination allow travelers skip quarantine condition motorcycle rider caught dash cam next unmarked cop car burger king announces big change whopper lonely widower posts sign window seeking friendship it\\x92s last resort remote work lead double taxation ? musk method learn partners go alone brickbat cant breathe taghi amirani us-backed 1953 coup iran still changing global politics homeschooling hits tipping point us withdraws foolish threat new tariffs canadian aluminum new fcc nominee already helping trump try censor social media brickbat stop cutting cheese'"
      ]
     },
     "execution_count": 111,
     "metadata": {},
     "output_type": "execute_result"
    }
   ],
   "source": [
    "# create one long string of all the values in the column Join_Headline_Real\n",
    "# Think we can use reduce to do this\n",
    "def oneString(x,y):\n",
    "    return str(x) + ' ' + str(y)\n",
    "\n",
    "allWords = functools.reduce(oneString, df['Join_Headline_Real'])\n",
    "allWords"
   ]
  },
  {
   "cell_type": "code",
   "execution_count": 145,
   "metadata": {},
   "outputs": [],
   "source": [
    "# create a function to do the frequency analysis on different strings of words\n",
    "def doFreqAnalysis(stringOWords, freqToTest):\n",
    "    \n",
    "    # Take the complete string of words and turn into a list by splitting on spaces\n",
    "    wordsAnalysis = nltk.FreqDist(stringOWords.split(' '))\n",
    "    \n",
    "    # Because there are so many words, let's find one with frequency greater than 5\n",
    "    oftenWords = dict([(m, n) for m, n in wordsAnalysis.items() if len(m) > freqToTest])\n",
    "\n",
    "    # perform the analysis on the oftenly used words\n",
    "    wordsAnalysis = nltk.FreqDist(oftenWords)\n",
    "\n",
    "    # plot the frequency of top 25 oftenly used words\n",
    "    wordsAnalysis.plot(25, cumulative=False)"
   ]
  },
  {
   "cell_type": "code",
   "execution_count": 147,
   "metadata": {},
   "outputs": [
    {
     "data": {
      "image/png": "[encoded data removed]",
      "text/plain": [
       "<Figure size 432x288 with 1 Axes>"
      ]
     },
     "metadata": {
      "needs_background": "light"
     },
     "output_type": "display_data"
    }
   ],
   "source": [
    "\n",
    "# call the Frequency Analysis on all the non-stop words in headlines with frequency > 5\n",
    "doFreqAnalysis(allWords,5)\n"
   ]
  },
  {
   "cell_type": "markdown",
   "metadata": {},
   "source": [
    "##### Answer 5a: Frequency analysis on all the headlines"
   ]
  },
  {
   "cell_type": "code",
   "execution_count": 132,
   "metadata": {},
   "outputs": [
    {
     "name": "stdout",
     "output_type": "stream",
     "text": [
      "Looks like the top 10 words, that are not stop words, in the headlines are:\n",
      "\n",
      "  hurricane    covid-19 coronavirus      police     florida   wildfires    speaking     frankly      donald      coastn \n",
      "         57          52          47          43          36          34          33          33          31          30 \n"
     ]
    }
   ],
   "source": [
    "print('Looks like the top 10 words, that are not stop words, in the headlines are:\\n')\n",
    "data_analysis.tabulate(10)"
   ]
  },
  {
   "cell_type": "code",
   "execution_count": null,
   "metadata": {},
   "outputs": [],
   "source": [
    "##### Question 5b: Frequency analysis on only cat = 'center' headlines"
   ]
  },
  {
   "cell_type": "code",
   "execution_count": 148,
   "metadata": {},
   "outputs": [
    {
     "data": {
      "image/png": "[encoded data removed]",
      "text/plain": [
       "<Figure size 432x288 with 1 Axes>"
      ]
     },
     "metadata": {
      "needs_background": "light"
     },
     "output_type": "display_data"
    }
   ],
   "source": [
    "# get a dataframe of only the center headlines\n",
    "dfCenter = df[df['cat'].str.contains('center')]\n",
    "#dfCenter.head()\n",
    "\n",
    "# get all the words in the center headlines\n",
    "allWordsCenter = functools.reduce(oneString, dfCenter['Join_Headline_Real'])\n",
    "#allWordsCenter\n",
    "\n",
    "# call the Frequency Analysis on all the non-stop words in headlines with cat = 'center' with frequency > 5\n",
    "doFreqAnalysis(allWordsCenter,5)\n"
   ]
  },
  {
   "cell_type": "markdown",
   "metadata": {},
   "source": [
    "##### Question 5c: Perform frequency analysis of headlines cat = lightblue"
   ]
  },
  {
   "cell_type": "code",
   "execution_count": 149,
   "metadata": {},
   "outputs": [
    {
     "data": {
      "image/png": "[encoded data removed]",
      "text/plain": [
       "<Figure size 432x288 with 1 Axes>"
      ]
     },
     "metadata": {
      "needs_background": "light"
     },
     "output_type": "display_data"
    }
   ],
   "source": [
    "# get a dataframe of only the lightblue headlines\n",
    "dfBlue = df[df['cat'].str.contains('lightblue')]\n",
    "\n",
    "# get all the words in the center headlines\n",
    "allWordsBlue = functools.reduce(oneString, dfBlue['Join_Headline_Real'])\n",
    "\n",
    "# call the Frequency Analysis on all the non-stop words in headlines with cat = 'lightblue' with frequency > 5\n",
    "doFreqAnalysis(allWordsBlue,5)"
   ]
  },
  {
   "cell_type": "markdown",
   "metadata": {},
   "source": [
    "##### Question 5c: Perform frequency analysis of headlines cat = lightred"
   ]
  },
  {
   "cell_type": "code",
   "execution_count": 150,
   "metadata": {},
   "outputs": [
    {
     "data": {
      "image/png": "[encoded data removed]",
      "text/plain": [
       "<Figure size 432x288 with 1 Axes>"
      ]
     },
     "metadata": {
      "needs_background": "light"
     },
     "output_type": "display_data"
    }
   ],
   "source": [
    "# get a dataframe of only the lightred headlines\n",
    "dfRed= df[df['cat'].str.contains('lightred')]\n",
    "\n",
    "# get all the words in the center headlines\n",
    "allWordsRed = functools.reduce(oneString, dfRed['Join_Headline_Real'])\n",
    "\n",
    "# call the Frequency Analysis on all the non-stop words in headlines with cat = 'lightred' with frequency > 5\n",
    "doFreqAnalysis(allWordsRed,5)"
   ]
  }
 ],
 "metadata": {
  "kernelspec": {
   "display_name": "Python 3",
   "language": "python",
   "name": "python3"
  },
  "language_info": {
   "codemirror_mode": {
    "name": "ipython",
    "version": 3
   },
   "file_extension": ".py",
   "mimetype": "text/x-python",
   "name": "python",
   "nbconvert_exporter": "python",
   "pygments_lexer": "ipython3",
   "version": "3.8.3"
  }
 },
 "nbformat": 4,
 "nbformat_minor": 4
}
